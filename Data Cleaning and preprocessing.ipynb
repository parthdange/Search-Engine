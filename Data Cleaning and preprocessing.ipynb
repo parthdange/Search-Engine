{
 "cells": [
  {
   "cell_type": "code",
   "execution_count": 3,
   "metadata": {},
   "outputs": [],
   "source": [
    "from bs4 import BeautifulSoup\n",
    "from tqdm import tqdm"
   ]
  },
  {
   "cell_type": "code",
   "execution_count": 2,
   "metadata": {},
   "outputs": [],
   "source": [
    "import pandas as pd\n",
    "#plotting lib\n",
    "import matplotlib.pyplot as plt\n",
    "%matplotlib inline\n",
    "import seaborn as sns\n",
    "import plotly.express as px\n",
    "import plotly.graph_objects as go"
   ]
  },
  {
   "cell_type": "code",
   "execution_count": 1,
   "metadata": {},
   "outputs": [],
   "source": [
    "#read the csv\n",
    "df = pd.read_csv('1mg_pv.csv')"
   ]
  },
  {
   "cell_type": "code",
   "execution_count": 5,
   "metadata": {},
   "outputs": [
    {
     "data": {
      "text/plain": [
       "Index(['name', 'price', 'pack_size', 'Uses', 'intro_0', 'intro_1',\n",
       "       'How_to_use?', 'How_it_works?', 'expert_advice', 'safety_advice',\n",
       "       'side_effects', 'faqs', 'Images', 'lv_url', 'url'],\n",
       "      dtype='object')"
      ]
     },
     "execution_count": 5,
     "metadata": {},
     "output_type": "execute_result"
    }
   ],
   "source": [
    "#columns of csv\n",
    "df.columns"
   ]
  },
  {
   "cell_type": "code",
   "execution_count": 2,
   "metadata": {},
   "outputs": [
    {
     "data": {
      "text/html": [
       "<div>\n",
       "<style scoped>\n",
       "    .dataframe tbody tr th:only-of-type {\n",
       "        vertical-align: middle;\n",
       "    }\n",
       "\n",
       "    .dataframe tbody tr th {\n",
       "        vertical-align: top;\n",
       "    }\n",
       "\n",
       "    .dataframe thead th {\n",
       "        text-align: right;\n",
       "    }\n",
       "</style>\n",
       "<table border=\"1\" class=\"dataframe\">\n",
       "  <thead>\n",
       "    <tr style=\"text-align: right;\">\n",
       "      <th></th>\n",
       "      <th>name</th>\n",
       "      <th>price</th>\n",
       "      <th>pack_size</th>\n",
       "      <th>Uses</th>\n",
       "      <th>intro_0</th>\n",
       "      <th>intro_1</th>\n",
       "      <th>How_to_use?</th>\n",
       "      <th>How_it_works?</th>\n",
       "      <th>expert_advice</th>\n",
       "      <th>safety_advice</th>\n",
       "      <th>side_effects</th>\n",
       "      <th>faqs</th>\n",
       "      <th>Images</th>\n",
       "      <th>lv_url</th>\n",
       "      <th>url</th>\n",
       "    </tr>\n",
       "  </thead>\n",
       "  <tbody>\n",
       "    <tr>\n",
       "      <th>0</th>\n",
       "      <td>Zofloxin 200mg Tablet</td>\n",
       "      <td>52.0</td>\n",
       "      <td>10 tablets in 1 strip</td>\n",
       "      <td>[\"Bacterial infections\"]</td>\n",
       "      <td>Zofloxin 200mg Tablet is an antibiotic, used i...</td>\n",
       "      <td>Zofloxin 200mg Tablet should be used in the do...</td>\n",
       "      <td>NaN</td>\n",
       "      <td>NaN</td>\n",
       "      <td>&lt;ul&gt;&lt;li&gt;&lt;div&gt;Your doctor has prescribed Zoflox...</td>\n",
       "      <td>[{\"0\":\"alcohol\",\"1\":\"It is unsafe to consume a...</td>\n",
       "      <td>[[\"Nausea\",\"Stomach pain\",\"Diarrhea\"]]</td>\n",
       "      <td>[{\"0\":\"Q. Can I take Zofloxin with paracetamol...</td>\n",
       "      <td>NaN</td>\n",
       "      <td>https://www.1mg.com/drugs/zofloxin-200mg-table...</td>\n",
       "      <td>https://www.1mg.com/drugs/Zofloxin-Tablet-581630</td>\n",
       "    </tr>\n",
       "    <tr>\n",
       "      <th>1</th>\n",
       "      <td>Zevozine FX 10mg/120mg Tablet</td>\n",
       "      <td>116.0</td>\n",
       "      <td>10 tablets in 1 strip</td>\n",
       "      <td>[\"Sneezing and runny nose due to allergies\"]</td>\n",
       "      <td>Zevozine FX 10mg/120mg Tablet is a combination...</td>\n",
       "      <td>Zevozine FX 10mg/120mg Tablet is taken with or...</td>\n",
       "      <td>NaN</td>\n",
       "      <td>NaN</td>\n",
       "      <td>&lt;ul&gt;&lt;li&gt;You have been prescribed Zevozine FX 1...</td>\n",
       "      <td>[{\"0\":\"alcohol\",\"1\":\"Caution is advised when c...</td>\n",
       "      <td>[[\"Nausea\",\"Diarrhea\",\"Vomiting\",\"Skin rash\",\"...</td>\n",
       "      <td>[{\"0\":\"Q. What is Zevozine FX ?\",\"1\":\"Zevozine...</td>\n",
       "      <td>NaN</td>\n",
       "      <td>https://www.1mg.com/drugs/zevozine-fx-10mg-120...</td>\n",
       "      <td>https://www.1mg.com/drugs/Zevozine FX-Tablet-5...</td>\n",
       "    </tr>\n",
       "    <tr>\n",
       "      <th>2</th>\n",
       "      <td>Zomcort 6mg Tablet</td>\n",
       "      <td>98.0</td>\n",
       "      <td>10 tablets in 1 strip</td>\n",
       "      <td>[\"Severe allergic reactions\",\"Allergic conditi...</td>\n",
       "      <td>Zomcort 6mg Tablet belongs to a group of medic...</td>\n",
       "      <td>Zomcort 6mg Tablet works by inhibiting the rel...</td>\n",
       "      <td>NaN</td>\n",
       "      <td>NaN</td>\n",
       "      <td>&lt;ul&gt;&lt;li&gt;&lt;div&gt;Zomcort 6mg Tablet helps treat in...</td>\n",
       "      <td>[{\"0\":\"alcohol\",\"1\":\"It is unsafe to consume a...</td>\n",
       "      <td>[[\"Increased appetite\",\"Frequent urge to urina...</td>\n",
       "      <td>[{\"0\":\"Q. Is Zomcort a steroid?\",\"1\":\"Yes, Zom...</td>\n",
       "      <td>NaN</td>\n",
       "      <td>https://www.1mg.com/drugs/zomcort-6mg-tablet-5...</td>\n",
       "      <td>https://www.1mg.com/drugs/Zomcort-Tablet-598564</td>\n",
       "    </tr>\n",
       "  </tbody>\n",
       "</table>\n",
       "</div>"
      ],
      "text/plain": [
       "                            name  price              pack_size  \\\n",
       "0          Zofloxin 200mg Tablet   52.0  10 tablets in 1 strip   \n",
       "1  Zevozine FX 10mg/120mg Tablet  116.0  10 tablets in 1 strip   \n",
       "2             Zomcort 6mg Tablet   98.0  10 tablets in 1 strip   \n",
       "\n",
       "                                                Uses  \\\n",
       "0                           [\"Bacterial infections\"]   \n",
       "1       [\"Sneezing and runny nose due to allergies\"]   \n",
       "2  [\"Severe allergic reactions\",\"Allergic conditi...   \n",
       "\n",
       "                                             intro_0  \\\n",
       "0  Zofloxin 200mg Tablet is an antibiotic, used i...   \n",
       "1  Zevozine FX 10mg/120mg Tablet is a combination...   \n",
       "2  Zomcort 6mg Tablet belongs to a group of medic...   \n",
       "\n",
       "                                             intro_1  How_to_use?  \\\n",
       "0  Zofloxin 200mg Tablet should be used in the do...          NaN   \n",
       "1  Zevozine FX 10mg/120mg Tablet is taken with or...          NaN   \n",
       "2  Zomcort 6mg Tablet works by inhibiting the rel...          NaN   \n",
       "\n",
       "   How_it_works?                                      expert_advice  \\\n",
       "0            NaN  <ul><li><div>Your doctor has prescribed Zoflox...   \n",
       "1            NaN  <ul><li>You have been prescribed Zevozine FX 1...   \n",
       "2            NaN  <ul><li><div>Zomcort 6mg Tablet helps treat in...   \n",
       "\n",
       "                                       safety_advice  \\\n",
       "0  [{\"0\":\"alcohol\",\"1\":\"It is unsafe to consume a...   \n",
       "1  [{\"0\":\"alcohol\",\"1\":\"Caution is advised when c...   \n",
       "2  [{\"0\":\"alcohol\",\"1\":\"It is unsafe to consume a...   \n",
       "\n",
       "                                        side_effects  \\\n",
       "0             [[\"Nausea\",\"Stomach pain\",\"Diarrhea\"]]   \n",
       "1  [[\"Nausea\",\"Diarrhea\",\"Vomiting\",\"Skin rash\",\"...   \n",
       "2  [[\"Increased appetite\",\"Frequent urge to urina...   \n",
       "\n",
       "                                                faqs Images  \\\n",
       "0  [{\"0\":\"Q. Can I take Zofloxin with paracetamol...    NaN   \n",
       "1  [{\"0\":\"Q. What is Zevozine FX ?\",\"1\":\"Zevozine...    NaN   \n",
       "2  [{\"0\":\"Q. Is Zomcort a steroid?\",\"1\":\"Yes, Zom...    NaN   \n",
       "\n",
       "                                              lv_url  \\\n",
       "0  https://www.1mg.com/drugs/zofloxin-200mg-table...   \n",
       "1  https://www.1mg.com/drugs/zevozine-fx-10mg-120...   \n",
       "2  https://www.1mg.com/drugs/zomcort-6mg-tablet-5...   \n",
       "\n",
       "                                                 url  \n",
       "0   https://www.1mg.com/drugs/Zofloxin-Tablet-581630  \n",
       "1  https://www.1mg.com/drugs/Zevozine FX-Tablet-5...  \n",
       "2    https://www.1mg.com/drugs/Zomcort-Tablet-598564  "
      ]
     },
     "execution_count": 2,
     "metadata": {},
     "output_type": "execute_result"
    }
   ],
   "source": [
    "df.head(3)"
   ]
  },
  {
   "cell_type": "markdown",
   "metadata": {},
   "source": [
    "# Preprocessing"
   ]
  },
  {
   "cell_type": "markdown",
   "metadata": {},
   "source": [
    "# safety_advice"
   ]
  },
  {
   "cell_type": "markdown",
   "metadata": {},
   "source": [
    "### To convert the string to an actual dict, you can do df['name].map(eval)"
   ]
  },
  {
   "cell_type": "code",
   "execution_count": 38,
   "metadata": {},
   "outputs": [],
   "source": [
    "df['safety_advice'] = df['safety_advice'].map(eval)"
   ]
  },
  {
   "cell_type": "code",
   "execution_count": 39,
   "metadata": {},
   "outputs": [
    {
     "data": {
      "text/html": [
       "<div>\n",
       "<style scoped>\n",
       "    .dataframe tbody tr th:only-of-type {\n",
       "        vertical-align: middle;\n",
       "    }\n",
       "\n",
       "    .dataframe tbody tr th {\n",
       "        vertical-align: top;\n",
       "    }\n",
       "\n",
       "    .dataframe thead th {\n",
       "        text-align: right;\n",
       "    }\n",
       "</style>\n",
       "<table border=\"1\" class=\"dataframe\">\n",
       "  <thead>\n",
       "    <tr style=\"text-align: right;\">\n",
       "      <th></th>\n",
       "      <th>0</th>\n",
       "      <th>1</th>\n",
       "      <th>2</th>\n",
       "      <th>3</th>\n",
       "      <th>4</th>\n",
       "      <th>5</th>\n",
       "    </tr>\n",
       "  </thead>\n",
       "  <tbody>\n",
       "    <tr>\n",
       "      <th>0</th>\n",
       "      <td>{'0': 'alcohol', '1': 'It is unsafe to consume...</td>\n",
       "      <td>{'0': 'pregnancy', '1': 'Zofloxin 200mg Tablet...</td>\n",
       "      <td>{'0': 'breastfeeding', '1': 'Zofloxin 200mg Ta...</td>\n",
       "      <td>{'0': 'driving', '1': 'Zofloxin 200mg Tablet m...</td>\n",
       "      <td>{'0': 'kidney', '1': 'Zofloxin 200mg Tablet sh...</td>\n",
       "      <td>{'0': 'liver', '1': 'Zofloxin 200mg Tablet sho...</td>\n",
       "    </tr>\n",
       "    <tr>\n",
       "      <th>1</th>\n",
       "      <td>{'0': 'alcohol', '1': 'Caution is advised when...</td>\n",
       "      <td>{'0': 'pregnancy', '1': 'Zevozine FX 10mg/120m...</td>\n",
       "      <td>{'0': 'breastfeeding', '1': 'Zevozine FX 10mg/...</td>\n",
       "      <td>{'0': 'driving', '1': 'Zevozine FX 10mg/120mg ...</td>\n",
       "      <td>{'0': 'kidney', '1': 'Zevozine FX 10mg/120mg T...</td>\n",
       "      <td>{'0': 'liver', '1': 'Zevozine FX 10mg/120mg Ta...</td>\n",
       "    </tr>\n",
       "    <tr>\n",
       "      <th>2</th>\n",
       "      <td>{'0': 'alcohol', '1': 'It is unsafe to consume...</td>\n",
       "      <td>{'0': 'pregnancy', '1': 'Zomcort 6mg Tablet ma...</td>\n",
       "      <td>{'0': 'breastfeeding', '1': 'Zomcort 6mg Table...</td>\n",
       "      <td>{'0': 'driving', '1': 'Zomcort 6mg Tablet does...</td>\n",
       "      <td>{'0': 'kidney', '1': 'Zomcort 6mg Tablet is sa...</td>\n",
       "      <td>{'0': 'liver', '1': 'Zomcort 6mg Tablet should...</td>\n",
       "    </tr>\n",
       "    <tr>\n",
       "      <th>3</th>\n",
       "      <td>{'0': 'alcohol', '1': 'Caution is advised when...</td>\n",
       "      <td>{'0': 'pregnancy', '1': 'Zumcof DX Syrup may b...</td>\n",
       "      <td>{'0': 'breastfeeding', '1': 'Zumcof DX Syrup i...</td>\n",
       "      <td>{'0': 'driving', '1': 'Zumcof DX Syrup may cau...</td>\n",
       "      <td>{'0': 'kidney', '1': 'Zumcof DX Syrup is proba...</td>\n",
       "      <td>{'0': 'liver', '1': 'Zumcof DX Syrup is probab...</td>\n",
       "    </tr>\n",
       "    <tr>\n",
       "      <th>4</th>\n",
       "      <td>{'0': 'alcohol', '1': 'It is unsafe to consume...</td>\n",
       "      <td>{'0': 'pregnancy', '1': 'Zocflox 200mg Tablet ...</td>\n",
       "      <td>{'0': 'breastfeeding', '1': 'Zocflox 200mg Tab...</td>\n",
       "      <td>{'0': 'driving', '1': 'Zocflox 200mg Tablet ma...</td>\n",
       "      <td>{'0': 'kidney', '1': 'Zocflox 200mg Tablet sho...</td>\n",
       "      <td>{'0': 'liver', '1': 'Zocflox 200mg Tablet shou...</td>\n",
       "    </tr>\n",
       "    <tr>\n",
       "      <th>...</th>\n",
       "      <td>...</td>\n",
       "      <td>...</td>\n",
       "      <td>...</td>\n",
       "      <td>...</td>\n",
       "      <td>...</td>\n",
       "      <td>...</td>\n",
       "    </tr>\n",
       "    <tr>\n",
       "      <th>138017</th>\n",
       "      <td>{'0': 'alcohol', '1': 'No interaction found/es...</td>\n",
       "      <td>{'0': 'pregnancy', '1': 'Information regarding...</td>\n",
       "      <td>{'0': 'breastfeeding', '1': 'Information regar...</td>\n",
       "      <td>{'0': 'driving', '1': 'No interaction found/es...</td>\n",
       "      <td>{'0': 'kidney', '1': 'No interaction found/est...</td>\n",
       "      <td>{'0': 'liver', '1': 'No interaction found/esta...</td>\n",
       "    </tr>\n",
       "    <tr>\n",
       "      <th>138018</th>\n",
       "      <td>{'0': 'alcohol', '1': 'Caution is advised when...</td>\n",
       "      <td>{'0': 'pregnancy', '1': 'Domzen OD 10 mg/20 mg...</td>\n",
       "      <td>{'0': 'breastfeeding', '1': 'Domzen OD 10 mg/2...</td>\n",
       "      <td>{'0': 'driving', '1': 'Domzen OD 10 mg/20 mg C...</td>\n",
       "      <td>{'0': 'kidney', '1': 'Domzen OD 10 mg/20 mg Ca...</td>\n",
       "      <td>{'0': 'liver', '1': 'Domzen OD 10 mg/20 mg Cap...</td>\n",
       "    </tr>\n",
       "    <tr>\n",
       "      <th>138019</th>\n",
       "      <td>{'0': 'alcohol', '1': 'It is unsafe to consume...</td>\n",
       "      <td>{'0': 'pregnancy', '1': 'Decotaz 12mg Tablet m...</td>\n",
       "      <td>{'0': 'breastfeeding', '1': 'Decotaz 12mg Tabl...</td>\n",
       "      <td>{'0': 'driving', '1': 'Decotaz 12mg Tablet doe...</td>\n",
       "      <td>{'0': 'kidney', '1': 'Decotaz 12mg Tablet is s...</td>\n",
       "      <td>{'0': 'liver', '1': 'Decotaz 12mg Tablet shoul...</td>\n",
       "    </tr>\n",
       "    <tr>\n",
       "      <th>138020</th>\n",
       "      <td>{'0': 'alcohol', '1': 'It is unsafe to consume...</td>\n",
       "      <td>{'0': 'pregnancy', '1': 'Dulonic 20mg Capsule ...</td>\n",
       "      <td>{'0': 'breastfeeding', '1': 'Dulonic 20mg Caps...</td>\n",
       "      <td>{'0': 'driving', '1': 'Dulonic 20mg Capsule ma...</td>\n",
       "      <td>{'0': 'kidney', '1': 'Dulonic 20mg Capsule sho...</td>\n",
       "      <td>{'0': 'liver', '1': 'Dulonic 20mg Capsule is p...</td>\n",
       "    </tr>\n",
       "    <tr>\n",
       "      <th>138021</th>\n",
       "      <td>{'0': 'alcohol', '1': 'It is unsafe to consume...</td>\n",
       "      <td>{'0': 'pregnancy', '1': 'Dolozap 100mg/325mg T...</td>\n",
       "      <td>{'0': 'breastfeeding', '1': 'Information regar...</td>\n",
       "      <td>{'0': 'driving', '1': 'Dolozap 100mg/325mg Tab...</td>\n",
       "      <td>{'0': 'kidney', '1': 'Dolozap 100mg/325mg Tabl...</td>\n",
       "      <td>{'0': 'liver', '1': 'Dolozap 100mg/325mg Table...</td>\n",
       "    </tr>\n",
       "  </tbody>\n",
       "</table>\n",
       "<p>138022 rows × 6 columns</p>\n",
       "</div>"
      ],
      "text/plain": [
       "                                                        0  \\\n",
       "0       {'0': 'alcohol', '1': 'It is unsafe to consume...   \n",
       "1       {'0': 'alcohol', '1': 'Caution is advised when...   \n",
       "2       {'0': 'alcohol', '1': 'It is unsafe to consume...   \n",
       "3       {'0': 'alcohol', '1': 'Caution is advised when...   \n",
       "4       {'0': 'alcohol', '1': 'It is unsafe to consume...   \n",
       "...                                                   ...   \n",
       "138017  {'0': 'alcohol', '1': 'No interaction found/es...   \n",
       "138018  {'0': 'alcohol', '1': 'Caution is advised when...   \n",
       "138019  {'0': 'alcohol', '1': 'It is unsafe to consume...   \n",
       "138020  {'0': 'alcohol', '1': 'It is unsafe to consume...   \n",
       "138021  {'0': 'alcohol', '1': 'It is unsafe to consume...   \n",
       "\n",
       "                                                        1  \\\n",
       "0       {'0': 'pregnancy', '1': 'Zofloxin 200mg Tablet...   \n",
       "1       {'0': 'pregnancy', '1': 'Zevozine FX 10mg/120m...   \n",
       "2       {'0': 'pregnancy', '1': 'Zomcort 6mg Tablet ma...   \n",
       "3       {'0': 'pregnancy', '1': 'Zumcof DX Syrup may b...   \n",
       "4       {'0': 'pregnancy', '1': 'Zocflox 200mg Tablet ...   \n",
       "...                                                   ...   \n",
       "138017  {'0': 'pregnancy', '1': 'Information regarding...   \n",
       "138018  {'0': 'pregnancy', '1': 'Domzen OD 10 mg/20 mg...   \n",
       "138019  {'0': 'pregnancy', '1': 'Decotaz 12mg Tablet m...   \n",
       "138020  {'0': 'pregnancy', '1': 'Dulonic 20mg Capsule ...   \n",
       "138021  {'0': 'pregnancy', '1': 'Dolozap 100mg/325mg T...   \n",
       "\n",
       "                                                        2  \\\n",
       "0       {'0': 'breastfeeding', '1': 'Zofloxin 200mg Ta...   \n",
       "1       {'0': 'breastfeeding', '1': 'Zevozine FX 10mg/...   \n",
       "2       {'0': 'breastfeeding', '1': 'Zomcort 6mg Table...   \n",
       "3       {'0': 'breastfeeding', '1': 'Zumcof DX Syrup i...   \n",
       "4       {'0': 'breastfeeding', '1': 'Zocflox 200mg Tab...   \n",
       "...                                                   ...   \n",
       "138017  {'0': 'breastfeeding', '1': 'Information regar...   \n",
       "138018  {'0': 'breastfeeding', '1': 'Domzen OD 10 mg/2...   \n",
       "138019  {'0': 'breastfeeding', '1': 'Decotaz 12mg Tabl...   \n",
       "138020  {'0': 'breastfeeding', '1': 'Dulonic 20mg Caps...   \n",
       "138021  {'0': 'breastfeeding', '1': 'Information regar...   \n",
       "\n",
       "                                                        3  \\\n",
       "0       {'0': 'driving', '1': 'Zofloxin 200mg Tablet m...   \n",
       "1       {'0': 'driving', '1': 'Zevozine FX 10mg/120mg ...   \n",
       "2       {'0': 'driving', '1': 'Zomcort 6mg Tablet does...   \n",
       "3       {'0': 'driving', '1': 'Zumcof DX Syrup may cau...   \n",
       "4       {'0': 'driving', '1': 'Zocflox 200mg Tablet ma...   \n",
       "...                                                   ...   \n",
       "138017  {'0': 'driving', '1': 'No interaction found/es...   \n",
       "138018  {'0': 'driving', '1': 'Domzen OD 10 mg/20 mg C...   \n",
       "138019  {'0': 'driving', '1': 'Decotaz 12mg Tablet doe...   \n",
       "138020  {'0': 'driving', '1': 'Dulonic 20mg Capsule ma...   \n",
       "138021  {'0': 'driving', '1': 'Dolozap 100mg/325mg Tab...   \n",
       "\n",
       "                                                        4  \\\n",
       "0       {'0': 'kidney', '1': 'Zofloxin 200mg Tablet sh...   \n",
       "1       {'0': 'kidney', '1': 'Zevozine FX 10mg/120mg T...   \n",
       "2       {'0': 'kidney', '1': 'Zomcort 6mg Tablet is sa...   \n",
       "3       {'0': 'kidney', '1': 'Zumcof DX Syrup is proba...   \n",
       "4       {'0': 'kidney', '1': 'Zocflox 200mg Tablet sho...   \n",
       "...                                                   ...   \n",
       "138017  {'0': 'kidney', '1': 'No interaction found/est...   \n",
       "138018  {'0': 'kidney', '1': 'Domzen OD 10 mg/20 mg Ca...   \n",
       "138019  {'0': 'kidney', '1': 'Decotaz 12mg Tablet is s...   \n",
       "138020  {'0': 'kidney', '1': 'Dulonic 20mg Capsule sho...   \n",
       "138021  {'0': 'kidney', '1': 'Dolozap 100mg/325mg Tabl...   \n",
       "\n",
       "                                                        5  \n",
       "0       {'0': 'liver', '1': 'Zofloxin 200mg Tablet sho...  \n",
       "1       {'0': 'liver', '1': 'Zevozine FX 10mg/120mg Ta...  \n",
       "2       {'0': 'liver', '1': 'Zomcort 6mg Tablet should...  \n",
       "3       {'0': 'liver', '1': 'Zumcof DX Syrup is probab...  \n",
       "4       {'0': 'liver', '1': 'Zocflox 200mg Tablet shou...  \n",
       "...                                                   ...  \n",
       "138017  {'0': 'liver', '1': 'No interaction found/esta...  \n",
       "138018  {'0': 'liver', '1': 'Domzen OD 10 mg/20 mg Cap...  \n",
       "138019  {'0': 'liver', '1': 'Decotaz 12mg Tablet shoul...  \n",
       "138020  {'0': 'liver', '1': 'Dulonic 20mg Capsule is p...  \n",
       "138021  {'0': 'liver', '1': 'Dolozap 100mg/325mg Table...  \n",
       "\n",
       "[138022 rows x 6 columns]"
      ]
     },
     "execution_count": 39,
     "metadata": {},
     "output_type": "execute_result"
    }
   ],
   "source": [
    "safety_advicedf['safety_advice'].apply(pd.Series)"
   ]
  },
  {
   "cell_type": "code",
   "execution_count": 40,
   "metadata": {},
   "outputs": [],
   "source": [
    "six_safety_advice = df['safety_advice'].apply(pd.Series)"
   ]
  },
  {
   "cell_type": "code",
   "execution_count": 41,
   "metadata": {},
   "outputs": [
    {
     "data": {
      "text/html": [
       "<div>\n",
       "<style scoped>\n",
       "    .dataframe tbody tr th:only-of-type {\n",
       "        vertical-align: middle;\n",
       "    }\n",
       "\n",
       "    .dataframe tbody tr th {\n",
       "        vertical-align: top;\n",
       "    }\n",
       "\n",
       "    .dataframe thead th {\n",
       "        text-align: right;\n",
       "    }\n",
       "</style>\n",
       "<table border=\"1\" class=\"dataframe\">\n",
       "  <thead>\n",
       "    <tr style=\"text-align: right;\">\n",
       "      <th></th>\n",
       "      <th>0</th>\n",
       "      <th>1</th>\n",
       "      <th>2</th>\n",
       "      <th>3</th>\n",
       "      <th>4</th>\n",
       "      <th>5</th>\n",
       "    </tr>\n",
       "  </thead>\n",
       "  <tbody>\n",
       "    <tr>\n",
       "      <th>0</th>\n",
       "      <td>{'0': 'alcohol', '1': 'It is unsafe to consume...</td>\n",
       "      <td>{'0': 'pregnancy', '1': 'Zofloxin 200mg Tablet...</td>\n",
       "      <td>{'0': 'breastfeeding', '1': 'Zofloxin 200mg Ta...</td>\n",
       "      <td>{'0': 'driving', '1': 'Zofloxin 200mg Tablet m...</td>\n",
       "      <td>{'0': 'kidney', '1': 'Zofloxin 200mg Tablet sh...</td>\n",
       "      <td>{'0': 'liver', '1': 'Zofloxin 200mg Tablet sho...</td>\n",
       "    </tr>\n",
       "    <tr>\n",
       "      <th>1</th>\n",
       "      <td>{'0': 'alcohol', '1': 'Caution is advised when...</td>\n",
       "      <td>{'0': 'pregnancy', '1': 'Zevozine FX 10mg/120m...</td>\n",
       "      <td>{'0': 'breastfeeding', '1': 'Zevozine FX 10mg/...</td>\n",
       "      <td>{'0': 'driving', '1': 'Zevozine FX 10mg/120mg ...</td>\n",
       "      <td>{'0': 'kidney', '1': 'Zevozine FX 10mg/120mg T...</td>\n",
       "      <td>{'0': 'liver', '1': 'Zevozine FX 10mg/120mg Ta...</td>\n",
       "    </tr>\n",
       "    <tr>\n",
       "      <th>2</th>\n",
       "      <td>{'0': 'alcohol', '1': 'It is unsafe to consume...</td>\n",
       "      <td>{'0': 'pregnancy', '1': 'Zomcort 6mg Tablet ma...</td>\n",
       "      <td>{'0': 'breastfeeding', '1': 'Zomcort 6mg Table...</td>\n",
       "      <td>{'0': 'driving', '1': 'Zomcort 6mg Tablet does...</td>\n",
       "      <td>{'0': 'kidney', '1': 'Zomcort 6mg Tablet is sa...</td>\n",
       "      <td>{'0': 'liver', '1': 'Zomcort 6mg Tablet should...</td>\n",
       "    </tr>\n",
       "    <tr>\n",
       "      <th>3</th>\n",
       "      <td>{'0': 'alcohol', '1': 'Caution is advised when...</td>\n",
       "      <td>{'0': 'pregnancy', '1': 'Zumcof DX Syrup may b...</td>\n",
       "      <td>{'0': 'breastfeeding', '1': 'Zumcof DX Syrup i...</td>\n",
       "      <td>{'0': 'driving', '1': 'Zumcof DX Syrup may cau...</td>\n",
       "      <td>{'0': 'kidney', '1': 'Zumcof DX Syrup is proba...</td>\n",
       "      <td>{'0': 'liver', '1': 'Zumcof DX Syrup is probab...</td>\n",
       "    </tr>\n",
       "    <tr>\n",
       "      <th>4</th>\n",
       "      <td>{'0': 'alcohol', '1': 'It is unsafe to consume...</td>\n",
       "      <td>{'0': 'pregnancy', '1': 'Zocflox 200mg Tablet ...</td>\n",
       "      <td>{'0': 'breastfeeding', '1': 'Zocflox 200mg Tab...</td>\n",
       "      <td>{'0': 'driving', '1': 'Zocflox 200mg Tablet ma...</td>\n",
       "      <td>{'0': 'kidney', '1': 'Zocflox 200mg Tablet sho...</td>\n",
       "      <td>{'0': 'liver', '1': 'Zocflox 200mg Tablet shou...</td>\n",
       "    </tr>\n",
       "  </tbody>\n",
       "</table>\n",
       "</div>"
      ],
      "text/plain": [
       "                                                   0  \\\n",
       "0  {'0': 'alcohol', '1': 'It is unsafe to consume...   \n",
       "1  {'0': 'alcohol', '1': 'Caution is advised when...   \n",
       "2  {'0': 'alcohol', '1': 'It is unsafe to consume...   \n",
       "3  {'0': 'alcohol', '1': 'Caution is advised when...   \n",
       "4  {'0': 'alcohol', '1': 'It is unsafe to consume...   \n",
       "\n",
       "                                                   1  \\\n",
       "0  {'0': 'pregnancy', '1': 'Zofloxin 200mg Tablet...   \n",
       "1  {'0': 'pregnancy', '1': 'Zevozine FX 10mg/120m...   \n",
       "2  {'0': 'pregnancy', '1': 'Zomcort 6mg Tablet ma...   \n",
       "3  {'0': 'pregnancy', '1': 'Zumcof DX Syrup may b...   \n",
       "4  {'0': 'pregnancy', '1': 'Zocflox 200mg Tablet ...   \n",
       "\n",
       "                                                   2  \\\n",
       "0  {'0': 'breastfeeding', '1': 'Zofloxin 200mg Ta...   \n",
       "1  {'0': 'breastfeeding', '1': 'Zevozine FX 10mg/...   \n",
       "2  {'0': 'breastfeeding', '1': 'Zomcort 6mg Table...   \n",
       "3  {'0': 'breastfeeding', '1': 'Zumcof DX Syrup i...   \n",
       "4  {'0': 'breastfeeding', '1': 'Zocflox 200mg Tab...   \n",
       "\n",
       "                                                   3  \\\n",
       "0  {'0': 'driving', '1': 'Zofloxin 200mg Tablet m...   \n",
       "1  {'0': 'driving', '1': 'Zevozine FX 10mg/120mg ...   \n",
       "2  {'0': 'driving', '1': 'Zomcort 6mg Tablet does...   \n",
       "3  {'0': 'driving', '1': 'Zumcof DX Syrup may cau...   \n",
       "4  {'0': 'driving', '1': 'Zocflox 200mg Tablet ma...   \n",
       "\n",
       "                                                   4  \\\n",
       "0  {'0': 'kidney', '1': 'Zofloxin 200mg Tablet sh...   \n",
       "1  {'0': 'kidney', '1': 'Zevozine FX 10mg/120mg T...   \n",
       "2  {'0': 'kidney', '1': 'Zomcort 6mg Tablet is sa...   \n",
       "3  {'0': 'kidney', '1': 'Zumcof DX Syrup is proba...   \n",
       "4  {'0': 'kidney', '1': 'Zocflox 200mg Tablet sho...   \n",
       "\n",
       "                                                   5  \n",
       "0  {'0': 'liver', '1': 'Zofloxin 200mg Tablet sho...  \n",
       "1  {'0': 'liver', '1': 'Zevozine FX 10mg/120mg Ta...  \n",
       "2  {'0': 'liver', '1': 'Zomcort 6mg Tablet should...  \n",
       "3  {'0': 'liver', '1': 'Zumcof DX Syrup is probab...  \n",
       "4  {'0': 'liver', '1': 'Zocflox 200mg Tablet shou...  "
      ]
     },
     "execution_count": 41,
     "metadata": {},
     "output_type": "execute_result"
    }
   ],
   "source": [
    "six_safety_advice.head()"
   ]
  },
  {
   "cell_type": "code",
   "execution_count": 42,
   "metadata": {},
   "outputs": [],
   "source": [
    "# six_safety_advice.map(eval)\n",
    "df_six_safety_advice = six_safety_advice.copy()"
   ]
  },
  {
   "cell_type": "code",
   "execution_count": 46,
   "metadata": {},
   "outputs": [],
   "source": [
    "df_six_safety_advice = df_six_safety_advice.rename(columns={0: 'alcohol', 1: 'pregnancy',2: 'breastfeeding', 3:'driving',4:'kidney',5:'liver'})"
   ]
  },
  {
   "cell_type": "code",
   "execution_count": 47,
   "metadata": {},
   "outputs": [
    {
     "data": {
      "text/html": [
       "<div>\n",
       "<style scoped>\n",
       "    .dataframe tbody tr th:only-of-type {\n",
       "        vertical-align: middle;\n",
       "    }\n",
       "\n",
       "    .dataframe tbody tr th {\n",
       "        vertical-align: top;\n",
       "    }\n",
       "\n",
       "    .dataframe thead th {\n",
       "        text-align: right;\n",
       "    }\n",
       "</style>\n",
       "<table border=\"1\" class=\"dataframe\">\n",
       "  <thead>\n",
       "    <tr style=\"text-align: right;\">\n",
       "      <th></th>\n",
       "      <th>alcohol</th>\n",
       "      <th>pregnancy</th>\n",
       "      <th>breastfeeding</th>\n",
       "      <th>driving</th>\n",
       "      <th>kidney</th>\n",
       "      <th>liver</th>\n",
       "    </tr>\n",
       "  </thead>\n",
       "  <tbody>\n",
       "    <tr>\n",
       "      <th>0</th>\n",
       "      <td>{'0': 'alcohol', '1': 'It is unsafe to consume...</td>\n",
       "      <td>{'0': 'pregnancy', '1': 'Zofloxin 200mg Tablet...</td>\n",
       "      <td>{'0': 'breastfeeding', '1': 'Zofloxin 200mg Ta...</td>\n",
       "      <td>{'0': 'driving', '1': 'Zofloxin 200mg Tablet m...</td>\n",
       "      <td>{'0': 'kidney', '1': 'Zofloxin 200mg Tablet sh...</td>\n",
       "      <td>{'0': 'liver', '1': 'Zofloxin 200mg Tablet sho...</td>\n",
       "    </tr>\n",
       "    <tr>\n",
       "      <th>1</th>\n",
       "      <td>{'0': 'alcohol', '1': 'Caution is advised when...</td>\n",
       "      <td>{'0': 'pregnancy', '1': 'Zevozine FX 10mg/120m...</td>\n",
       "      <td>{'0': 'breastfeeding', '1': 'Zevozine FX 10mg/...</td>\n",
       "      <td>{'0': 'driving', '1': 'Zevozine FX 10mg/120mg ...</td>\n",
       "      <td>{'0': 'kidney', '1': 'Zevozine FX 10mg/120mg T...</td>\n",
       "      <td>{'0': 'liver', '1': 'Zevozine FX 10mg/120mg Ta...</td>\n",
       "    </tr>\n",
       "    <tr>\n",
       "      <th>2</th>\n",
       "      <td>{'0': 'alcohol', '1': 'It is unsafe to consume...</td>\n",
       "      <td>{'0': 'pregnancy', '1': 'Zomcort 6mg Tablet ma...</td>\n",
       "      <td>{'0': 'breastfeeding', '1': 'Zomcort 6mg Table...</td>\n",
       "      <td>{'0': 'driving', '1': 'Zomcort 6mg Tablet does...</td>\n",
       "      <td>{'0': 'kidney', '1': 'Zomcort 6mg Tablet is sa...</td>\n",
       "      <td>{'0': 'liver', '1': 'Zomcort 6mg Tablet should...</td>\n",
       "    </tr>\n",
       "    <tr>\n",
       "      <th>3</th>\n",
       "      <td>{'0': 'alcohol', '1': 'Caution is advised when...</td>\n",
       "      <td>{'0': 'pregnancy', '1': 'Zumcof DX Syrup may b...</td>\n",
       "      <td>{'0': 'breastfeeding', '1': 'Zumcof DX Syrup i...</td>\n",
       "      <td>{'0': 'driving', '1': 'Zumcof DX Syrup may cau...</td>\n",
       "      <td>{'0': 'kidney', '1': 'Zumcof DX Syrup is proba...</td>\n",
       "      <td>{'0': 'liver', '1': 'Zumcof DX Syrup is probab...</td>\n",
       "    </tr>\n",
       "    <tr>\n",
       "      <th>4</th>\n",
       "      <td>{'0': 'alcohol', '1': 'It is unsafe to consume...</td>\n",
       "      <td>{'0': 'pregnancy', '1': 'Zocflox 200mg Tablet ...</td>\n",
       "      <td>{'0': 'breastfeeding', '1': 'Zocflox 200mg Tab...</td>\n",
       "      <td>{'0': 'driving', '1': 'Zocflox 200mg Tablet ma...</td>\n",
       "      <td>{'0': 'kidney', '1': 'Zocflox 200mg Tablet sho...</td>\n",
       "      <td>{'0': 'liver', '1': 'Zocflox 200mg Tablet shou...</td>\n",
       "    </tr>\n",
       "  </tbody>\n",
       "</table>\n",
       "</div>"
      ],
      "text/plain": [
       "                                             alcohol  \\\n",
       "0  {'0': 'alcohol', '1': 'It is unsafe to consume...   \n",
       "1  {'0': 'alcohol', '1': 'Caution is advised when...   \n",
       "2  {'0': 'alcohol', '1': 'It is unsafe to consume...   \n",
       "3  {'0': 'alcohol', '1': 'Caution is advised when...   \n",
       "4  {'0': 'alcohol', '1': 'It is unsafe to consume...   \n",
       "\n",
       "                                           pregnancy  \\\n",
       "0  {'0': 'pregnancy', '1': 'Zofloxin 200mg Tablet...   \n",
       "1  {'0': 'pregnancy', '1': 'Zevozine FX 10mg/120m...   \n",
       "2  {'0': 'pregnancy', '1': 'Zomcort 6mg Tablet ma...   \n",
       "3  {'0': 'pregnancy', '1': 'Zumcof DX Syrup may b...   \n",
       "4  {'0': 'pregnancy', '1': 'Zocflox 200mg Tablet ...   \n",
       "\n",
       "                                       breastfeeding  \\\n",
       "0  {'0': 'breastfeeding', '1': 'Zofloxin 200mg Ta...   \n",
       "1  {'0': 'breastfeeding', '1': 'Zevozine FX 10mg/...   \n",
       "2  {'0': 'breastfeeding', '1': 'Zomcort 6mg Table...   \n",
       "3  {'0': 'breastfeeding', '1': 'Zumcof DX Syrup i...   \n",
       "4  {'0': 'breastfeeding', '1': 'Zocflox 200mg Tab...   \n",
       "\n",
       "                                             driving  \\\n",
       "0  {'0': 'driving', '1': 'Zofloxin 200mg Tablet m...   \n",
       "1  {'0': 'driving', '1': 'Zevozine FX 10mg/120mg ...   \n",
       "2  {'0': 'driving', '1': 'Zomcort 6mg Tablet does...   \n",
       "3  {'0': 'driving', '1': 'Zumcof DX Syrup may cau...   \n",
       "4  {'0': 'driving', '1': 'Zocflox 200mg Tablet ma...   \n",
       "\n",
       "                                              kidney  \\\n",
       "0  {'0': 'kidney', '1': 'Zofloxin 200mg Tablet sh...   \n",
       "1  {'0': 'kidney', '1': 'Zevozine FX 10mg/120mg T...   \n",
       "2  {'0': 'kidney', '1': 'Zomcort 6mg Tablet is sa...   \n",
       "3  {'0': 'kidney', '1': 'Zumcof DX Syrup is proba...   \n",
       "4  {'0': 'kidney', '1': 'Zocflox 200mg Tablet sho...   \n",
       "\n",
       "                                               liver  \n",
       "0  {'0': 'liver', '1': 'Zofloxin 200mg Tablet sho...  \n",
       "1  {'0': 'liver', '1': 'Zevozine FX 10mg/120mg Ta...  \n",
       "2  {'0': 'liver', '1': 'Zomcort 6mg Tablet should...  \n",
       "3  {'0': 'liver', '1': 'Zumcof DX Syrup is probab...  \n",
       "4  {'0': 'liver', '1': 'Zocflox 200mg Tablet shou...  "
      ]
     },
     "execution_count": 47,
     "metadata": {},
     "output_type": "execute_result"
    }
   ],
   "source": [
    "df_six_safety_advice.head()"
   ]
  },
  {
   "cell_type": "markdown",
   "metadata": {},
   "source": [
    "### final df for alcohol"
   ]
  },
  {
   "cell_type": "code",
   "execution_count": 55,
   "metadata": {},
   "outputs": [],
   "source": [
    "safety_advice_alcohol = df_six_safety_advice['alcohol'].apply(pd.Series)"
   ]
  },
  {
   "cell_type": "code",
   "execution_count": 60,
   "metadata": {},
   "outputs": [],
   "source": [
    "final_safety_advice_alcohol = safety_advice_alcohol.rename(columns={'0': 'alcohol_0', '1': 'alcohol_1'})"
   ]
  },
  {
   "cell_type": "code",
   "execution_count": 61,
   "metadata": {},
   "outputs": [
    {
     "data": {
      "text/html": [
       "<div>\n",
       "<style scoped>\n",
       "    .dataframe tbody tr th:only-of-type {\n",
       "        vertical-align: middle;\n",
       "    }\n",
       "\n",
       "    .dataframe tbody tr th {\n",
       "        vertical-align: top;\n",
       "    }\n",
       "\n",
       "    .dataframe thead th {\n",
       "        text-align: right;\n",
       "    }\n",
       "</style>\n",
       "<table border=\"1\" class=\"dataframe\">\n",
       "  <thead>\n",
       "    <tr style=\"text-align: right;\">\n",
       "      <th></th>\n",
       "      <th>alcohol_0</th>\n",
       "      <th>alcohol_1</th>\n",
       "    </tr>\n",
       "  </thead>\n",
       "  <tbody>\n",
       "    <tr>\n",
       "      <th>0</th>\n",
       "      <td>alcohol</td>\n",
       "      <td>It is unsafe to consume alcohol with Zofloxin ...</td>\n",
       "    </tr>\n",
       "    <tr>\n",
       "      <th>1</th>\n",
       "      <td>alcohol</td>\n",
       "      <td>Caution is advised when consuming alcohol with...</td>\n",
       "    </tr>\n",
       "  </tbody>\n",
       "</table>\n",
       "</div>"
      ],
      "text/plain": [
       "  alcohol_0                                          alcohol_1\n",
       "0   alcohol  It is unsafe to consume alcohol with Zofloxin ...\n",
       "1   alcohol  Caution is advised when consuming alcohol with..."
      ]
     },
     "execution_count": 61,
     "metadata": {},
     "output_type": "execute_result"
    }
   ],
   "source": [
    "final_safety_advice_alcohol.head(2)"
   ]
  },
  {
   "cell_type": "code",
   "execution_count": 84,
   "metadata": {},
   "outputs": [
    {
     "data": {
      "text/plain": [
       "alcohol_0    0\n",
       "alcohol_1    0\n",
       "dtype: int64"
      ]
     },
     "execution_count": 84,
     "metadata": {},
     "output_type": "execute_result"
    }
   ],
   "source": [
    "final_safety_advice_alcohol.isna().sum()"
   ]
  },
  {
   "cell_type": "code",
   "execution_count": 66,
   "metadata": {},
   "outputs": [],
   "source": [
    "final_safety_advice_alcohol.to_csv('./Untitled Folder/final_safety_advice_alcohol.csv',index=False)"
   ]
  },
  {
   "cell_type": "markdown",
   "metadata": {},
   "source": [
    "### final df for pregnancy"
   ]
  },
  {
   "cell_type": "code",
   "execution_count": 62,
   "metadata": {},
   "outputs": [
    {
     "data": {
      "text/html": [
       "<div>\n",
       "<style scoped>\n",
       "    .dataframe tbody tr th:only-of-type {\n",
       "        vertical-align: middle;\n",
       "    }\n",
       "\n",
       "    .dataframe tbody tr th {\n",
       "        vertical-align: top;\n",
       "    }\n",
       "\n",
       "    .dataframe thead th {\n",
       "        text-align: right;\n",
       "    }\n",
       "</style>\n",
       "<table border=\"1\" class=\"dataframe\">\n",
       "  <thead>\n",
       "    <tr style=\"text-align: right;\">\n",
       "      <th></th>\n",
       "      <th>pregnancy_0</th>\n",
       "      <th>pregnancy_1</th>\n",
       "    </tr>\n",
       "  </thead>\n",
       "  <tbody>\n",
       "    <tr>\n",
       "      <th>0</th>\n",
       "      <td>pregnancy</td>\n",
       "      <td>Zofloxin 200mg Tablet may be unsafe to use dur...</td>\n",
       "    </tr>\n",
       "    <tr>\n",
       "      <th>1</th>\n",
       "      <td>pregnancy</td>\n",
       "      <td>Zevozine FX 10mg/120mg Tablet may be unsafe to...</td>\n",
       "    </tr>\n",
       "  </tbody>\n",
       "</table>\n",
       "</div>"
      ],
      "text/plain": [
       "  pregnancy_0                                        pregnancy_1\n",
       "0   pregnancy  Zofloxin 200mg Tablet may be unsafe to use dur...\n",
       "1   pregnancy  Zevozine FX 10mg/120mg Tablet may be unsafe to..."
      ]
     },
     "execution_count": 62,
     "metadata": {},
     "output_type": "execute_result"
    }
   ],
   "source": [
    "safety_advice_pregnancy = df_six_safety_advice['pregnancy'].apply(pd.Series)\n",
    "final_safety_advice_pregnancy = safety_advice_pregnancy.rename(columns={'0': 'pregnancy_0', '1': 'pregnancy_1'})\n",
    "final_safety_advice_pregnancy.head(2)"
   ]
  },
  {
   "cell_type": "code",
   "execution_count": 83,
   "metadata": {},
   "outputs": [
    {
     "data": {
      "text/plain": [
       "pregnancy_0    0\n",
       "pregnancy_1    0\n",
       "dtype: int64"
      ]
     },
     "execution_count": 83,
     "metadata": {},
     "output_type": "execute_result"
    }
   ],
   "source": [
    "final_safety_advice_pregnancy.isna().sum()"
   ]
  },
  {
   "cell_type": "code",
   "execution_count": 67,
   "metadata": {},
   "outputs": [],
   "source": [
    "final_safety_advice_pregnancy.to_csv('./Untitled Folder/final_safety_advice_pregnancy.csv',index=False)"
   ]
  },
  {
   "cell_type": "markdown",
   "metadata": {},
   "source": [
    "### final df for breastfeeding"
   ]
  },
  {
   "cell_type": "code",
   "execution_count": 63,
   "metadata": {},
   "outputs": [
    {
     "data": {
      "text/html": [
       "<div>\n",
       "<style scoped>\n",
       "    .dataframe tbody tr th:only-of-type {\n",
       "        vertical-align: middle;\n",
       "    }\n",
       "\n",
       "    .dataframe tbody tr th {\n",
       "        vertical-align: top;\n",
       "    }\n",
       "\n",
       "    .dataframe thead th {\n",
       "        text-align: right;\n",
       "    }\n",
       "</style>\n",
       "<table border=\"1\" class=\"dataframe\">\n",
       "  <thead>\n",
       "    <tr style=\"text-align: right;\">\n",
       "      <th></th>\n",
       "      <th>breastfeeding_0</th>\n",
       "      <th>breastfeeding_1</th>\n",
       "    </tr>\n",
       "  </thead>\n",
       "  <tbody>\n",
       "    <tr>\n",
       "      <th>0</th>\n",
       "      <td>breastfeeding</td>\n",
       "      <td>Zofloxin 200mg Tablet is probably unsafe to us...</td>\n",
       "    </tr>\n",
       "    <tr>\n",
       "      <th>1</th>\n",
       "      <td>breastfeeding</td>\n",
       "      <td>Zevozine FX 10mg/120mg Tablet is probably safe...</td>\n",
       "    </tr>\n",
       "  </tbody>\n",
       "</table>\n",
       "</div>"
      ],
      "text/plain": [
       "  breastfeeding_0                                    breastfeeding_1\n",
       "0   breastfeeding  Zofloxin 200mg Tablet is probably unsafe to us...\n",
       "1   breastfeeding  Zevozine FX 10mg/120mg Tablet is probably safe..."
      ]
     },
     "execution_count": 63,
     "metadata": {},
     "output_type": "execute_result"
    }
   ],
   "source": [
    "safety_advice_breastfeeding = df_six_safety_advice['breastfeeding'].apply(pd.Series)\n",
    "final_safety_advice_breastfeeding = safety_advice_breastfeeding.rename(columns={'0': 'breastfeeding_0', '1': 'breastfeeding_1'})\n",
    "final_safety_advice_breastfeeding.head(2)"
   ]
  },
  {
   "cell_type": "code",
   "execution_count": 82,
   "metadata": {},
   "outputs": [
    {
     "data": {
      "text/plain": [
       "breastfeeding_0    0\n",
       "breastfeeding_1    0\n",
       "dtype: int64"
      ]
     },
     "execution_count": 82,
     "metadata": {},
     "output_type": "execute_result"
    }
   ],
   "source": [
    "final_safety_advice_breastfeeding.isna().sum()"
   ]
  },
  {
   "cell_type": "code",
   "execution_count": 68,
   "metadata": {},
   "outputs": [],
   "source": [
    "final_safety_advice_breastfeeding.to_csv('./Untitled Folder/final_safety_advice_breastfeeding.csv',index=False)"
   ]
  },
  {
   "cell_type": "markdown",
   "metadata": {},
   "source": [
    "### final df for driving"
   ]
  },
  {
   "cell_type": "code",
   "execution_count": 69,
   "metadata": {},
   "outputs": [
    {
     "data": {
      "text/html": [
       "<div>\n",
       "<style scoped>\n",
       "    .dataframe tbody tr th:only-of-type {\n",
       "        vertical-align: middle;\n",
       "    }\n",
       "\n",
       "    .dataframe tbody tr th {\n",
       "        vertical-align: top;\n",
       "    }\n",
       "\n",
       "    .dataframe thead th {\n",
       "        text-align: right;\n",
       "    }\n",
       "</style>\n",
       "<table border=\"1\" class=\"dataframe\">\n",
       "  <thead>\n",
       "    <tr style=\"text-align: right;\">\n",
       "      <th></th>\n",
       "      <th>driving_0</th>\n",
       "      <th>driving_1</th>\n",
       "    </tr>\n",
       "  </thead>\n",
       "  <tbody>\n",
       "    <tr>\n",
       "      <th>0</th>\n",
       "      <td>driving</td>\n",
       "      <td>Zofloxin 200mg Tablet may decrease alertness, ...</td>\n",
       "    </tr>\n",
       "    <tr>\n",
       "      <th>1</th>\n",
       "      <td>driving</td>\n",
       "      <td>Zevozine FX 10mg/120mg Tablet may decrease ale...</td>\n",
       "    </tr>\n",
       "  </tbody>\n",
       "</table>\n",
       "</div>"
      ],
      "text/plain": [
       "  driving_0                                          driving_1\n",
       "0   driving  Zofloxin 200mg Tablet may decrease alertness, ...\n",
       "1   driving  Zevozine FX 10mg/120mg Tablet may decrease ale..."
      ]
     },
     "execution_count": 69,
     "metadata": {},
     "output_type": "execute_result"
    }
   ],
   "source": [
    "safety_advice_driving = df_six_safety_advice['driving'].apply(pd.Series)\n",
    "final_safety_advice_driving = safety_advice_driving.rename(columns={'0': 'driving_0', '1': 'driving_1'})\n",
    "final_safety_advice_driving.head(2)"
   ]
  },
  {
   "cell_type": "code",
   "execution_count": 81,
   "metadata": {},
   "outputs": [
    {
     "data": {
      "text/plain": [
       "driving_0    0\n",
       "driving_1    0\n",
       "dtype: int64"
      ]
     },
     "execution_count": 81,
     "metadata": {},
     "output_type": "execute_result"
    }
   ],
   "source": [
    "final_safety_advice_driving.isna().sum()"
   ]
  },
  {
   "cell_type": "code",
   "execution_count": 70,
   "metadata": {},
   "outputs": [],
   "source": [
    "final_safety_advice_driving.to_csv('./Untitled Folder/final_safety_advice_driving.csv',index=False)"
   ]
  },
  {
   "cell_type": "markdown",
   "metadata": {},
   "source": [
    "### final df for kidney"
   ]
  },
  {
   "cell_type": "code",
   "execution_count": 71,
   "metadata": {},
   "outputs": [
    {
     "data": {
      "text/html": [
       "<div>\n",
       "<style scoped>\n",
       "    .dataframe tbody tr th:only-of-type {\n",
       "        vertical-align: middle;\n",
       "    }\n",
       "\n",
       "    .dataframe tbody tr th {\n",
       "        vertical-align: top;\n",
       "    }\n",
       "\n",
       "    .dataframe thead th {\n",
       "        text-align: right;\n",
       "    }\n",
       "</style>\n",
       "<table border=\"1\" class=\"dataframe\">\n",
       "  <thead>\n",
       "    <tr style=\"text-align: right;\">\n",
       "      <th></th>\n",
       "      <th>kidney_0</th>\n",
       "      <th>kidney_1</th>\n",
       "    </tr>\n",
       "  </thead>\n",
       "  <tbody>\n",
       "    <tr>\n",
       "      <th>0</th>\n",
       "      <td>kidney</td>\n",
       "      <td>Zofloxin 200mg Tablet should be used with caut...</td>\n",
       "    </tr>\n",
       "    <tr>\n",
       "      <th>1</th>\n",
       "      <td>kidney</td>\n",
       "      <td>Zevozine FX 10mg/120mg Tablet should be used w...</td>\n",
       "    </tr>\n",
       "  </tbody>\n",
       "</table>\n",
       "</div>"
      ],
      "text/plain": [
       "  kidney_0                                           kidney_1\n",
       "0   kidney  Zofloxin 200mg Tablet should be used with caut...\n",
       "1   kidney  Zevozine FX 10mg/120mg Tablet should be used w..."
      ]
     },
     "execution_count": 71,
     "metadata": {},
     "output_type": "execute_result"
    }
   ],
   "source": [
    "safety_advice_kidney = df_six_safety_advice['kidney'].apply(pd.Series)\n",
    "final_safety_advice_kidney = safety_advice_kidney.rename(columns={'0': 'kidney_0', '1': 'kidney_1'})\n",
    "final_safety_advice_kidney.head(2)"
   ]
  },
  {
   "cell_type": "code",
   "execution_count": 80,
   "metadata": {},
   "outputs": [
    {
     "data": {
      "text/plain": [
       "kidney_0    0\n",
       "kidney_1    0\n",
       "dtype: int64"
      ]
     },
     "execution_count": 80,
     "metadata": {},
     "output_type": "execute_result"
    }
   ],
   "source": [
    "final_safety_advice_kidney.isna().sum()"
   ]
  },
  {
   "cell_type": "code",
   "execution_count": 72,
   "metadata": {},
   "outputs": [],
   "source": [
    "final_safety_advice_kidney.to_csv('./Untitled Folder/final_safety_advice_kidney.csv',index=False)"
   ]
  },
  {
   "cell_type": "markdown",
   "metadata": {},
   "source": [
    "### final df for liver"
   ]
  },
  {
   "cell_type": "code",
   "execution_count": 73,
   "metadata": {},
   "outputs": [
    {
     "data": {
      "text/html": [
       "<div>\n",
       "<style scoped>\n",
       "    .dataframe tbody tr th:only-of-type {\n",
       "        vertical-align: middle;\n",
       "    }\n",
       "\n",
       "    .dataframe tbody tr th {\n",
       "        vertical-align: top;\n",
       "    }\n",
       "\n",
       "    .dataframe thead th {\n",
       "        text-align: right;\n",
       "    }\n",
       "</style>\n",
       "<table border=\"1\" class=\"dataframe\">\n",
       "  <thead>\n",
       "    <tr style=\"text-align: right;\">\n",
       "      <th></th>\n",
       "      <th>liver_0</th>\n",
       "      <th>liver_1</th>\n",
       "    </tr>\n",
       "  </thead>\n",
       "  <tbody>\n",
       "    <tr>\n",
       "      <th>0</th>\n",
       "      <td>liver</td>\n",
       "      <td>Zofloxin 200mg Tablet should be used with caut...</td>\n",
       "    </tr>\n",
       "    <tr>\n",
       "      <th>1</th>\n",
       "      <td>liver</td>\n",
       "      <td>Zevozine FX 10mg/120mg Tablet is probably safe...</td>\n",
       "    </tr>\n",
       "  </tbody>\n",
       "</table>\n",
       "</div>"
      ],
      "text/plain": [
       "  liver_0                                            liver_1\n",
       "0   liver  Zofloxin 200mg Tablet should be used with caut...\n",
       "1   liver  Zevozine FX 10mg/120mg Tablet is probably safe..."
      ]
     },
     "execution_count": 73,
     "metadata": {},
     "output_type": "execute_result"
    }
   ],
   "source": [
    "safety_advice_liver = df_six_safety_advice['liver'].apply(pd.Series)\n",
    "final_safety_advice_liver = safety_advice_liver.rename(columns={'0': 'liver_0', '1': 'liver_1'})\n",
    "final_safety_advice_liver.head(2)"
   ]
  },
  {
   "cell_type": "code",
   "execution_count": 79,
   "metadata": {},
   "outputs": [
    {
     "data": {
      "text/plain": [
       "liver_0    0\n",
       "liver_1    0\n",
       "dtype: int64"
      ]
     },
     "execution_count": 79,
     "metadata": {},
     "output_type": "execute_result"
    }
   ],
   "source": [
    "final_safety_advice_liver.isna().sum()"
   ]
  },
  {
   "cell_type": "code",
   "execution_count": 74,
   "metadata": {},
   "outputs": [],
   "source": [
    "final_safety_advice_liver.to_csv('./Untitled Folder/final_safety_advice_liver.csv',index=False)"
   ]
  },
  {
   "cell_type": "markdown",
   "metadata": {},
   "source": [
    "# Preprocessing faqs"
   ]
  },
  {
   "cell_type": "code",
   "execution_count": 2,
   "metadata": {},
   "outputs": [],
   "source": [
    "faqs_df = df['faqs'].map(eval)"
   ]
  },
  {
   "cell_type": "code",
   "execution_count": 3,
   "metadata": {},
   "outputs": [],
   "source": [
    "faqs_df_series = faqs_df.apply(pd.Series)"
   ]
  },
  {
   "cell_type": "code",
   "execution_count": 8,
   "metadata": {},
   "outputs": [
    {
     "data": {
      "text/html": [
       "<div>\n",
       "<style scoped>\n",
       "    .dataframe tbody tr th:only-of-type {\n",
       "        vertical-align: middle;\n",
       "    }\n",
       "\n",
       "    .dataframe tbody tr th {\n",
       "        vertical-align: top;\n",
       "    }\n",
       "\n",
       "    .dataframe thead th {\n",
       "        text-align: right;\n",
       "    }\n",
       "</style>\n",
       "<table border=\"1\" class=\"dataframe\">\n",
       "  <thead>\n",
       "    <tr style=\"text-align: right;\">\n",
       "      <th></th>\n",
       "      <th>0</th>\n",
       "      <th>1</th>\n",
       "      <th>2</th>\n",
       "      <th>3</th>\n",
       "      <th>4</th>\n",
       "      <th>5</th>\n",
       "      <th>6</th>\n",
       "      <th>7</th>\n",
       "      <th>8</th>\n",
       "      <th>9</th>\n",
       "      <th>...</th>\n",
       "      <th>35</th>\n",
       "      <th>36</th>\n",
       "      <th>37</th>\n",
       "      <th>38</th>\n",
       "      <th>39</th>\n",
       "      <th>40</th>\n",
       "      <th>41</th>\n",
       "      <th>42</th>\n",
       "      <th>43</th>\n",
       "      <th>44</th>\n",
       "    </tr>\n",
       "  </thead>\n",
       "  <tbody>\n",
       "    <tr>\n",
       "      <th>0</th>\n",
       "      <td>{'0': 'Q. Can I take Zofloxin with paracetamol...</td>\n",
       "      <td>{'0': 'Q. Can the use of Zofloxin cause diarrh...</td>\n",
       "      <td>{'0': 'Q. Can I stop taking Zofloxin when I fe...</td>\n",
       "      <td>{'0': 'Q. Can the use of Zofloxin increase the...</td>\n",
       "      <td>NaN</td>\n",
       "      <td>NaN</td>\n",
       "      <td>NaN</td>\n",
       "      <td>NaN</td>\n",
       "      <td>NaN</td>\n",
       "      <td>NaN</td>\n",
       "      <td>...</td>\n",
       "      <td>NaN</td>\n",
       "      <td>NaN</td>\n",
       "      <td>NaN</td>\n",
       "      <td>NaN</td>\n",
       "      <td>NaN</td>\n",
       "      <td>NaN</td>\n",
       "      <td>NaN</td>\n",
       "      <td>NaN</td>\n",
       "      <td>NaN</td>\n",
       "      <td>NaN</td>\n",
       "    </tr>\n",
       "    <tr>\n",
       "      <th>1</th>\n",
       "      <td>{'0': 'Q. What is Zevozine FX ?', '1': 'Zevozi...</td>\n",
       "      <td>{'0': 'Q. Can Zevozine FX be stopped when alle...</td>\n",
       "      <td>{'0': 'Q. Can the use of Zevozine FX cause diz...</td>\n",
       "      <td>{'0': 'Q. Can the use of Zevozine FX cause dry...</td>\n",
       "      <td>{'0': 'Q. What should be avoided in food while...</td>\n",
       "      <td>{'0': 'Q. Will Zevozine FX be more effective i...</td>\n",
       "      <td>{'0': 'Q. What is the recommended storage cond...</td>\n",
       "      <td>NaN</td>\n",
       "      <td>NaN</td>\n",
       "      <td>NaN</td>\n",
       "      <td>...</td>\n",
       "      <td>NaN</td>\n",
       "      <td>NaN</td>\n",
       "      <td>NaN</td>\n",
       "      <td>NaN</td>\n",
       "      <td>NaN</td>\n",
       "      <td>NaN</td>\n",
       "      <td>NaN</td>\n",
       "      <td>NaN</td>\n",
       "      <td>NaN</td>\n",
       "      <td>NaN</td>\n",
       "    </tr>\n",
       "    <tr>\n",
       "      <th>2</th>\n",
       "      <td>{'0': 'Q. Is Zomcort a steroid?', '1': 'Yes, Z...</td>\n",
       "      <td>{'0': 'Q. What is Zomcort used for?', '1': 'Zo...</td>\n",
       "      <td>{'0': 'Q. How does Zomcort work?', '1': 'Zomco...</td>\n",
       "      <td>{'0': 'Q. Is Zomcort better than Prednisone?',...</td>\n",
       "      <td>{'0': 'Q. Is Zomcort a painkiller?', '1': 'No,...</td>\n",
       "      <td>{'0': 'Q. Can I take Zomcort with Tamsulosin?'...</td>\n",
       "      <td>NaN</td>\n",
       "      <td>NaN</td>\n",
       "      <td>NaN</td>\n",
       "      <td>NaN</td>\n",
       "      <td>...</td>\n",
       "      <td>NaN</td>\n",
       "      <td>NaN</td>\n",
       "      <td>NaN</td>\n",
       "      <td>NaN</td>\n",
       "      <td>NaN</td>\n",
       "      <td>NaN</td>\n",
       "      <td>NaN</td>\n",
       "      <td>NaN</td>\n",
       "      <td>NaN</td>\n",
       "      <td>NaN</td>\n",
       "    </tr>\n",
       "  </tbody>\n",
       "</table>\n",
       "<p>3 rows × 45 columns</p>\n",
       "</div>"
      ],
      "text/plain": [
       "                                                  0   \\\n",
       "0  {'0': 'Q. Can I take Zofloxin with paracetamol...   \n",
       "1  {'0': 'Q. What is Zevozine FX ?', '1': 'Zevozi...   \n",
       "2  {'0': 'Q. Is Zomcort a steroid?', '1': 'Yes, Z...   \n",
       "\n",
       "                                                  1   \\\n",
       "0  {'0': 'Q. Can the use of Zofloxin cause diarrh...   \n",
       "1  {'0': 'Q. Can Zevozine FX be stopped when alle...   \n",
       "2  {'0': 'Q. What is Zomcort used for?', '1': 'Zo...   \n",
       "\n",
       "                                                  2   \\\n",
       "0  {'0': 'Q. Can I stop taking Zofloxin when I fe...   \n",
       "1  {'0': 'Q. Can the use of Zevozine FX cause diz...   \n",
       "2  {'0': 'Q. How does Zomcort work?', '1': 'Zomco...   \n",
       "\n",
       "                                                  3   \\\n",
       "0  {'0': 'Q. Can the use of Zofloxin increase the...   \n",
       "1  {'0': 'Q. Can the use of Zevozine FX cause dry...   \n",
       "2  {'0': 'Q. Is Zomcort better than Prednisone?',...   \n",
       "\n",
       "                                                  4   \\\n",
       "0                                                NaN   \n",
       "1  {'0': 'Q. What should be avoided in food while...   \n",
       "2  {'0': 'Q. Is Zomcort a painkiller?', '1': 'No,...   \n",
       "\n",
       "                                                  5   \\\n",
       "0                                                NaN   \n",
       "1  {'0': 'Q. Will Zevozine FX be more effective i...   \n",
       "2  {'0': 'Q. Can I take Zomcort with Tamsulosin?'...   \n",
       "\n",
       "                                                  6    7    8    9   ...   35  \\\n",
       "0                                                NaN  NaN  NaN  NaN  ...  NaN   \n",
       "1  {'0': 'Q. What is the recommended storage cond...  NaN  NaN  NaN  ...  NaN   \n",
       "2                                                NaN  NaN  NaN  NaN  ...  NaN   \n",
       "\n",
       "    36   37   38   39   40   41   42   43   44  \n",
       "0  NaN  NaN  NaN  NaN  NaN  NaN  NaN  NaN  NaN  \n",
       "1  NaN  NaN  NaN  NaN  NaN  NaN  NaN  NaN  NaN  \n",
       "2  NaN  NaN  NaN  NaN  NaN  NaN  NaN  NaN  NaN  \n",
       "\n",
       "[3 rows x 45 columns]"
      ]
     },
     "execution_count": 8,
     "metadata": {},
     "output_type": "execute_result"
    }
   ],
   "source": [
    "faqs_df_series[0:3]"
   ]
  },
  {
   "cell_type": "code",
   "execution_count": 19,
   "metadata": {},
   "outputs": [
    {
     "data": {
      "text/plain": [
       "dict"
      ]
     },
     "execution_count": 19,
     "metadata": {},
     "output_type": "execute_result"
    }
   ],
   "source": [
    "type(faqs_df_series['faqs_0'][0])"
   ]
  },
  {
   "cell_type": "code",
   "execution_count": 4,
   "metadata": {},
   "outputs": [
    {
     "data": {
      "text/html": [
       "<div>\n",
       "<style scoped>\n",
       "    .dataframe tbody tr th:only-of-type {\n",
       "        vertical-align: middle;\n",
       "    }\n",
       "\n",
       "    .dataframe tbody tr th {\n",
       "        vertical-align: top;\n",
       "    }\n",
       "\n",
       "    .dataframe thead th {\n",
       "        text-align: right;\n",
       "    }\n",
       "</style>\n",
       "<table border=\"1\" class=\"dataframe\">\n",
       "  <thead>\n",
       "    <tr style=\"text-align: right;\">\n",
       "      <th></th>\n",
       "      <th>0</th>\n",
       "      <th>1</th>\n",
       "      <th>2</th>\n",
       "      <th>3</th>\n",
       "      <th>4</th>\n",
       "      <th>5</th>\n",
       "      <th>6</th>\n",
       "      <th>7</th>\n",
       "      <th>8</th>\n",
       "      <th>9</th>\n",
       "      <th>...</th>\n",
       "      <th>35</th>\n",
       "      <th>36</th>\n",
       "      <th>37</th>\n",
       "      <th>38</th>\n",
       "      <th>39</th>\n",
       "      <th>40</th>\n",
       "      <th>41</th>\n",
       "      <th>42</th>\n",
       "      <th>43</th>\n",
       "      <th>44</th>\n",
       "    </tr>\n",
       "  </thead>\n",
       "  <tbody>\n",
       "    <tr>\n",
       "      <th>0</th>\n",
       "      <td>{'0': 'Q. Can I take Zofloxin with paracetamol...</td>\n",
       "      <td>{'0': 'Q. Can the use of Zofloxin cause diarrh...</td>\n",
       "      <td>{'0': 'Q. Can I stop taking Zofloxin when I fe...</td>\n",
       "      <td>{'0': 'Q. Can the use of Zofloxin increase the...</td>\n",
       "      <td>NaN</td>\n",
       "      <td>NaN</td>\n",
       "      <td>NaN</td>\n",
       "      <td>NaN</td>\n",
       "      <td>NaN</td>\n",
       "      <td>NaN</td>\n",
       "      <td>...</td>\n",
       "      <td>NaN</td>\n",
       "      <td>NaN</td>\n",
       "      <td>NaN</td>\n",
       "      <td>NaN</td>\n",
       "      <td>NaN</td>\n",
       "      <td>NaN</td>\n",
       "      <td>NaN</td>\n",
       "      <td>NaN</td>\n",
       "      <td>NaN</td>\n",
       "      <td>NaN</td>\n",
       "    </tr>\n",
       "    <tr>\n",
       "      <th>1</th>\n",
       "      <td>{'0': 'Q. What is Zevozine FX ?', '1': 'Zevozi...</td>\n",
       "      <td>{'0': 'Q. Can Zevozine FX be stopped when alle...</td>\n",
       "      <td>{'0': 'Q. Can the use of Zevozine FX cause diz...</td>\n",
       "      <td>{'0': 'Q. Can the use of Zevozine FX cause dry...</td>\n",
       "      <td>{'0': 'Q. What should be avoided in food while...</td>\n",
       "      <td>{'0': 'Q. Will Zevozine FX be more effective i...</td>\n",
       "      <td>{'0': 'Q. What is the recommended storage cond...</td>\n",
       "      <td>NaN</td>\n",
       "      <td>NaN</td>\n",
       "      <td>NaN</td>\n",
       "      <td>...</td>\n",
       "      <td>NaN</td>\n",
       "      <td>NaN</td>\n",
       "      <td>NaN</td>\n",
       "      <td>NaN</td>\n",
       "      <td>NaN</td>\n",
       "      <td>NaN</td>\n",
       "      <td>NaN</td>\n",
       "      <td>NaN</td>\n",
       "      <td>NaN</td>\n",
       "      <td>NaN</td>\n",
       "    </tr>\n",
       "  </tbody>\n",
       "</table>\n",
       "<p>2 rows × 45 columns</p>\n",
       "</div>"
      ],
      "text/plain": [
       "                                                  0   \\\n",
       "0  {'0': 'Q. Can I take Zofloxin with paracetamol...   \n",
       "1  {'0': 'Q. What is Zevozine FX ?', '1': 'Zevozi...   \n",
       "\n",
       "                                                  1   \\\n",
       "0  {'0': 'Q. Can the use of Zofloxin cause diarrh...   \n",
       "1  {'0': 'Q. Can Zevozine FX be stopped when alle...   \n",
       "\n",
       "                                                  2   \\\n",
       "0  {'0': 'Q. Can I stop taking Zofloxin when I fe...   \n",
       "1  {'0': 'Q. Can the use of Zevozine FX cause diz...   \n",
       "\n",
       "                                                  3   \\\n",
       "0  {'0': 'Q. Can the use of Zofloxin increase the...   \n",
       "1  {'0': 'Q. Can the use of Zevozine FX cause dry...   \n",
       "\n",
       "                                                  4   \\\n",
       "0                                                NaN   \n",
       "1  {'0': 'Q. What should be avoided in food while...   \n",
       "\n",
       "                                                  5   \\\n",
       "0                                                NaN   \n",
       "1  {'0': 'Q. Will Zevozine FX be more effective i...   \n",
       "\n",
       "                                                  6    7    8    9   ...   35  \\\n",
       "0                                                NaN  NaN  NaN  NaN  ...  NaN   \n",
       "1  {'0': 'Q. What is the recommended storage cond...  NaN  NaN  NaN  ...  NaN   \n",
       "\n",
       "    36   37   38   39   40   41   42   43   44  \n",
       "0  NaN  NaN  NaN  NaN  NaN  NaN  NaN  NaN  NaN  \n",
       "1  NaN  NaN  NaN  NaN  NaN  NaN  NaN  NaN  NaN  \n",
       "\n",
       "[2 rows x 45 columns]"
      ]
     },
     "execution_count": 4,
     "metadata": {},
     "output_type": "execute_result"
    }
   ],
   "source": [
    "faqs_df_series.head(2)"
   ]
  },
  {
   "cell_type": "code",
   "execution_count": 14,
   "metadata": {},
   "outputs": [],
   "source": [
    "temp={}\n",
    "for i in faqs_df_series.columns:\n",
    "    temp[i] = f\"faqs_{i}\"\n",
    "faqs_df_series = faqs_df_series.rename(columns=temp)"
   ]
  },
  {
   "cell_type": "code",
   "execution_count": 15,
   "metadata": {},
   "outputs": [
    {
     "data": {
      "text/html": [
       "<div>\n",
       "<style scoped>\n",
       "    .dataframe tbody tr th:only-of-type {\n",
       "        vertical-align: middle;\n",
       "    }\n",
       "\n",
       "    .dataframe tbody tr th {\n",
       "        vertical-align: top;\n",
       "    }\n",
       "\n",
       "    .dataframe thead th {\n",
       "        text-align: right;\n",
       "    }\n",
       "</style>\n",
       "<table border=\"1\" class=\"dataframe\">\n",
       "  <thead>\n",
       "    <tr style=\"text-align: right;\">\n",
       "      <th></th>\n",
       "      <th>faqs_0</th>\n",
       "      <th>faqs_1</th>\n",
       "      <th>faqs_2</th>\n",
       "      <th>faqs_3</th>\n",
       "      <th>faqs_4</th>\n",
       "      <th>faqs_5</th>\n",
       "      <th>faqs_6</th>\n",
       "      <th>faqs_7</th>\n",
       "      <th>faqs_8</th>\n",
       "      <th>faqs_9</th>\n",
       "      <th>...</th>\n",
       "      <th>faqs_35</th>\n",
       "      <th>faqs_36</th>\n",
       "      <th>faqs_37</th>\n",
       "      <th>faqs_38</th>\n",
       "      <th>faqs_39</th>\n",
       "      <th>faqs_40</th>\n",
       "      <th>faqs_41</th>\n",
       "      <th>faqs_42</th>\n",
       "      <th>faqs_43</th>\n",
       "      <th>faqs_44</th>\n",
       "    </tr>\n",
       "  </thead>\n",
       "  <tbody>\n",
       "    <tr>\n",
       "      <th>0</th>\n",
       "      <td>{'0': 'Q. Can I take Zofloxin with paracetamol...</td>\n",
       "      <td>{'0': 'Q. Can the use of Zofloxin cause diarrh...</td>\n",
       "      <td>{'0': 'Q. Can I stop taking Zofloxin when I fe...</td>\n",
       "      <td>{'0': 'Q. Can the use of Zofloxin increase the...</td>\n",
       "      <td>NaN</td>\n",
       "      <td>NaN</td>\n",
       "      <td>NaN</td>\n",
       "      <td>NaN</td>\n",
       "      <td>NaN</td>\n",
       "      <td>NaN</td>\n",
       "      <td>...</td>\n",
       "      <td>NaN</td>\n",
       "      <td>NaN</td>\n",
       "      <td>NaN</td>\n",
       "      <td>NaN</td>\n",
       "      <td>NaN</td>\n",
       "      <td>NaN</td>\n",
       "      <td>NaN</td>\n",
       "      <td>NaN</td>\n",
       "      <td>NaN</td>\n",
       "      <td>NaN</td>\n",
       "    </tr>\n",
       "    <tr>\n",
       "      <th>1</th>\n",
       "      <td>{'0': 'Q. What is Zevozine FX ?', '1': 'Zevozi...</td>\n",
       "      <td>{'0': 'Q. Can Zevozine FX be stopped when alle...</td>\n",
       "      <td>{'0': 'Q. Can the use of Zevozine FX cause diz...</td>\n",
       "      <td>{'0': 'Q. Can the use of Zevozine FX cause dry...</td>\n",
       "      <td>{'0': 'Q. What should be avoided in food while...</td>\n",
       "      <td>{'0': 'Q. Will Zevozine FX be more effective i...</td>\n",
       "      <td>{'0': 'Q. What is the recommended storage cond...</td>\n",
       "      <td>NaN</td>\n",
       "      <td>NaN</td>\n",
       "      <td>NaN</td>\n",
       "      <td>...</td>\n",
       "      <td>NaN</td>\n",
       "      <td>NaN</td>\n",
       "      <td>NaN</td>\n",
       "      <td>NaN</td>\n",
       "      <td>NaN</td>\n",
       "      <td>NaN</td>\n",
       "      <td>NaN</td>\n",
       "      <td>NaN</td>\n",
       "      <td>NaN</td>\n",
       "      <td>NaN</td>\n",
       "    </tr>\n",
       "  </tbody>\n",
       "</table>\n",
       "<p>2 rows × 45 columns</p>\n",
       "</div>"
      ],
      "text/plain": [
       "                                              faqs_0  \\\n",
       "0  {'0': 'Q. Can I take Zofloxin with paracetamol...   \n",
       "1  {'0': 'Q. What is Zevozine FX ?', '1': 'Zevozi...   \n",
       "\n",
       "                                              faqs_1  \\\n",
       "0  {'0': 'Q. Can the use of Zofloxin cause diarrh...   \n",
       "1  {'0': 'Q. Can Zevozine FX be stopped when alle...   \n",
       "\n",
       "                                              faqs_2  \\\n",
       "0  {'0': 'Q. Can I stop taking Zofloxin when I fe...   \n",
       "1  {'0': 'Q. Can the use of Zevozine FX cause diz...   \n",
       "\n",
       "                                              faqs_3  \\\n",
       "0  {'0': 'Q. Can the use of Zofloxin increase the...   \n",
       "1  {'0': 'Q. Can the use of Zevozine FX cause dry...   \n",
       "\n",
       "                                              faqs_4  \\\n",
       "0                                                NaN   \n",
       "1  {'0': 'Q. What should be avoided in food while...   \n",
       "\n",
       "                                              faqs_5  \\\n",
       "0                                                NaN   \n",
       "1  {'0': 'Q. Will Zevozine FX be more effective i...   \n",
       "\n",
       "                                              faqs_6 faqs_7 faqs_8 faqs_9  \\\n",
       "0                                                NaN    NaN    NaN    NaN   \n",
       "1  {'0': 'Q. What is the recommended storage cond...    NaN    NaN    NaN   \n",
       "\n",
       "   ... faqs_35 faqs_36 faqs_37 faqs_38 faqs_39 faqs_40 faqs_41 faqs_42  \\\n",
       "0  ...     NaN     NaN     NaN     NaN     NaN     NaN     NaN     NaN   \n",
       "1  ...     NaN     NaN     NaN     NaN     NaN     NaN     NaN     NaN   \n",
       "\n",
       "  faqs_43 faqs_44  \n",
       "0     NaN     NaN  \n",
       "1     NaN     NaN  \n",
       "\n",
       "[2 rows x 45 columns]"
      ]
     },
     "execution_count": 15,
     "metadata": {},
     "output_type": "execute_result"
    }
   ],
   "source": [
    "faqs_df_series.head(2)"
   ]
  },
  {
   "cell_type": "code",
   "execution_count": 18,
   "metadata": {},
   "outputs": [],
   "source": [
    "faqs_df_series.to_csv('./Untitled Folder/faqs_df_series.csv',index=False)"
   ]
  },
  {
   "cell_type": "markdown",
   "metadata": {},
   "source": [
    "# Preprocessing Uses"
   ]
  },
  {
   "cell_type": "code",
   "execution_count": 38,
   "metadata": {},
   "outputs": [
    {
     "data": {
      "text/plain": [
       "'[\"Bacterial infections\"]'"
      ]
     },
     "execution_count": 38,
     "metadata": {},
     "output_type": "execute_result"
    }
   ],
   "source": [
    "df['Uses'][0]"
   ]
  },
  {
   "cell_type": "code",
   "execution_count": 50,
   "metadata": {},
   "outputs": [
    {
     "name": "stderr",
     "output_type": "stream",
     "text": [
      "100%|██████████| 138022/138022 [00:00<00:00, 208214.11it/s]\n"
     ]
    }
   ],
   "source": [
    "Uses = []\n",
    "# tqdm is for printing the status bar\n",
    "for use in tqdm(df['Uses'].values):\n",
    "    use = use.replace(\"[\", \"\").replace(\"]\", \"\").replace('\"', \"\")\n",
    "    Uses.append(use.strip())"
   ]
  },
  {
   "cell_type": "code",
   "execution_count": 83,
   "metadata": {},
   "outputs": [],
   "source": [
    "df[\"Clean_Uses\"] = [Uses[i] for i in range(len(df))]"
   ]
  },
  {
   "cell_type": "markdown",
   "metadata": {},
   "source": [
    "# Preprocessing expert_advice"
   ]
  },
  {
   "cell_type": "code",
   "execution_count": 72,
   "metadata": {},
   "outputs": [],
   "source": [
    "#some values are NAN, so we need to replace it with a empty string so that we can itreate over it\n",
    "for row in df.loc[df.expert_advice.isnull(), 'expert_advice'].index:\n",
    "    df.at[row, 'expert_advice'] = \" \""
   ]
  },
  {
   "cell_type": "code",
   "execution_count": 78,
   "metadata": {},
   "outputs": [
    {
     "name": "stderr",
     "output_type": "stream",
     "text": [
      "100%|██████████| 138022/138022 [02:55<00:00, 786.55it/s] \n"
     ]
    }
   ],
   "source": [
    "expert_advice = []\n",
    "# tqdm is for printing the status bar\n",
    "for expert_adv in tqdm(df['expert_advice'].values):\n",
    "    #print(expert_adv)\n",
    "    expert_adv = BeautifulSoup(expert_adv, 'lxml').get_text()\n",
    "    expert_advice.append(expert_adv.strip())"
   ]
  },
  {
   "cell_type": "code",
   "execution_count": 80,
   "metadata": {},
   "outputs": [],
   "source": [
    "df[\"Clean_expert_advice\"] = [expert_advice[i] for i in range(len(df))]"
   ]
  },
  {
   "cell_type": "code",
   "execution_count": 84,
   "metadata": {},
   "outputs": [
    {
     "data": {
      "text/html": [
       "<div>\n",
       "<style scoped>\n",
       "    .dataframe tbody tr th:only-of-type {\n",
       "        vertical-align: middle;\n",
       "    }\n",
       "\n",
       "    .dataframe tbody tr th {\n",
       "        vertical-align: top;\n",
       "    }\n",
       "\n",
       "    .dataframe thead th {\n",
       "        text-align: right;\n",
       "    }\n",
       "</style>\n",
       "<table border=\"1\" class=\"dataframe\">\n",
       "  <thead>\n",
       "    <tr style=\"text-align: right;\">\n",
       "      <th></th>\n",
       "      <th>name</th>\n",
       "      <th>price</th>\n",
       "      <th>pack_size</th>\n",
       "      <th>Uses</th>\n",
       "      <th>intro_0</th>\n",
       "      <th>intro_1</th>\n",
       "      <th>How_to_use?</th>\n",
       "      <th>How_it_works?</th>\n",
       "      <th>expert_advice</th>\n",
       "      <th>safety_advice</th>\n",
       "      <th>side_effects</th>\n",
       "      <th>faqs</th>\n",
       "      <th>Images</th>\n",
       "      <th>lv_url</th>\n",
       "      <th>url</th>\n",
       "      <th>Clean_expert_advice</th>\n",
       "      <th>Clean_Uses</th>\n",
       "    </tr>\n",
       "  </thead>\n",
       "  <tbody>\n",
       "    <tr>\n",
       "      <th>0</th>\n",
       "      <td>Zofloxin 200mg Tablet</td>\n",
       "      <td>52.0</td>\n",
       "      <td>10 tablets in 1 strip</td>\n",
       "      <td>[\"Bacterial infections\"]</td>\n",
       "      <td>Zofloxin 200mg Tablet is an antibiotic, used i...</td>\n",
       "      <td>Zofloxin 200mg Tablet should be used in the do...</td>\n",
       "      <td>NaN</td>\n",
       "      <td>NaN</td>\n",
       "      <td>&lt;ul&gt;&lt;li&gt;&lt;div&gt;Your doctor has prescribed Zoflox...</td>\n",
       "      <td>[{\"0\":\"alcohol\",\"1\":\"It is unsafe to consume a...</td>\n",
       "      <td>[[\"Nausea\",\"Stomach pain\",\"Diarrhea\"]]</td>\n",
       "      <td>[{\"0\":\"Q. Can I take Zofloxin with paracetamol...</td>\n",
       "      <td>NaN</td>\n",
       "      <td>https://www.1mg.com/drugs/zofloxin-200mg-table...</td>\n",
       "      <td>https://www.1mg.com/drugs/Zofloxin-Tablet-581630</td>\n",
       "      <td>Your doctor has prescribed Zofloxin 200mg Tabl...</td>\n",
       "      <td>Bacterial infections</td>\n",
       "    </tr>\n",
       "    <tr>\n",
       "      <th>1</th>\n",
       "      <td>Zevozine FX 10mg/120mg Tablet</td>\n",
       "      <td>116.0</td>\n",
       "      <td>10 tablets in 1 strip</td>\n",
       "      <td>[\"Sneezing and runny nose due to allergies\"]</td>\n",
       "      <td>Zevozine FX 10mg/120mg Tablet is a combination...</td>\n",
       "      <td>Zevozine FX 10mg/120mg Tablet is taken with or...</td>\n",
       "      <td>NaN</td>\n",
       "      <td>NaN</td>\n",
       "      <td>&lt;ul&gt;&lt;li&gt;You have been prescribed Zevozine FX 1...</td>\n",
       "      <td>[{\"0\":\"alcohol\",\"1\":\"Caution is advised when c...</td>\n",
       "      <td>[[\"Nausea\",\"Diarrhea\",\"Vomiting\",\"Skin rash\",\"...</td>\n",
       "      <td>[{\"0\":\"Q. What is Zevozine FX ?\",\"1\":\"Zevozine...</td>\n",
       "      <td>NaN</td>\n",
       "      <td>https://www.1mg.com/drugs/zevozine-fx-10mg-120...</td>\n",
       "      <td>https://www.1mg.com/drugs/Zevozine FX-Tablet-5...</td>\n",
       "      <td>You have been prescribed Zevozine FX 10mg/120m...</td>\n",
       "      <td>Sneezing and runny nose due to allergies</td>\n",
       "    </tr>\n",
       "  </tbody>\n",
       "</table>\n",
       "</div>"
      ],
      "text/plain": [
       "                            name  price              pack_size  \\\n",
       "0          Zofloxin 200mg Tablet   52.0  10 tablets in 1 strip   \n",
       "1  Zevozine FX 10mg/120mg Tablet  116.0  10 tablets in 1 strip   \n",
       "\n",
       "                                           Uses  \\\n",
       "0                      [\"Bacterial infections\"]   \n",
       "1  [\"Sneezing and runny nose due to allergies\"]   \n",
       "\n",
       "                                             intro_0  \\\n",
       "0  Zofloxin 200mg Tablet is an antibiotic, used i...   \n",
       "1  Zevozine FX 10mg/120mg Tablet is a combination...   \n",
       "\n",
       "                                             intro_1  How_to_use?  \\\n",
       "0  Zofloxin 200mg Tablet should be used in the do...          NaN   \n",
       "1  Zevozine FX 10mg/120mg Tablet is taken with or...          NaN   \n",
       "\n",
       "   How_it_works?                                      expert_advice  \\\n",
       "0            NaN  <ul><li><div>Your doctor has prescribed Zoflox...   \n",
       "1            NaN  <ul><li>You have been prescribed Zevozine FX 1...   \n",
       "\n",
       "                                       safety_advice  \\\n",
       "0  [{\"0\":\"alcohol\",\"1\":\"It is unsafe to consume a...   \n",
       "1  [{\"0\":\"alcohol\",\"1\":\"Caution is advised when c...   \n",
       "\n",
       "                                        side_effects  \\\n",
       "0             [[\"Nausea\",\"Stomach pain\",\"Diarrhea\"]]   \n",
       "1  [[\"Nausea\",\"Diarrhea\",\"Vomiting\",\"Skin rash\",\"...   \n",
       "\n",
       "                                                faqs Images  \\\n",
       "0  [{\"0\":\"Q. Can I take Zofloxin with paracetamol...    NaN   \n",
       "1  [{\"0\":\"Q. What is Zevozine FX ?\",\"1\":\"Zevozine...    NaN   \n",
       "\n",
       "                                              lv_url  \\\n",
       "0  https://www.1mg.com/drugs/zofloxin-200mg-table...   \n",
       "1  https://www.1mg.com/drugs/zevozine-fx-10mg-120...   \n",
       "\n",
       "                                                 url  \\\n",
       "0   https://www.1mg.com/drugs/Zofloxin-Tablet-581630   \n",
       "1  https://www.1mg.com/drugs/Zevozine FX-Tablet-5...   \n",
       "\n",
       "                                 Clean_expert_advice  \\\n",
       "0  Your doctor has prescribed Zofloxin 200mg Tabl...   \n",
       "1  You have been prescribed Zevozine FX 10mg/120m...   \n",
       "\n",
       "                                 Clean_Uses  \n",
       "0                      Bacterial infections  \n",
       "1  Sneezing and runny nose due to allergies  "
      ]
     },
     "execution_count": 84,
     "metadata": {},
     "output_type": "execute_result"
    }
   ],
   "source": [
    "df.head(2)"
   ]
  },
  {
   "cell_type": "markdown",
   "metadata": {},
   "source": [
    "# Preprocessing side_effects"
   ]
  },
  {
   "cell_type": "code",
   "execution_count": 85,
   "metadata": {},
   "outputs": [
    {
     "name": "stderr",
     "output_type": "stream",
     "text": [
      "100%|██████████| 138022/138022 [00:00<00:00, 198737.63it/s]\n"
     ]
    }
   ],
   "source": [
    "side_effects = []\n",
    "# tqdm is for printing the status bar\n",
    "for i in tqdm(df['side_effects'].values):\n",
    "    i = i.replace(\"[\", \"\").replace(\"]\", \"\").replace('\"', \"\")\n",
    "    side_effects.append(i.strip())"
   ]
  },
  {
   "cell_type": "code",
   "execution_count": 89,
   "metadata": {},
   "outputs": [],
   "source": [
    "df[\"Clean_side_effects\"] = [side_effects[i] for i in range(len(df))]"
   ]
  },
  {
   "cell_type": "code",
   "execution_count": 90,
   "metadata": {},
   "outputs": [
    {
     "data": {
      "text/html": [
       "<div>\n",
       "<style scoped>\n",
       "    .dataframe tbody tr th:only-of-type {\n",
       "        vertical-align: middle;\n",
       "    }\n",
       "\n",
       "    .dataframe tbody tr th {\n",
       "        vertical-align: top;\n",
       "    }\n",
       "\n",
       "    .dataframe thead th {\n",
       "        text-align: right;\n",
       "    }\n",
       "</style>\n",
       "<table border=\"1\" class=\"dataframe\">\n",
       "  <thead>\n",
       "    <tr style=\"text-align: right;\">\n",
       "      <th></th>\n",
       "      <th>name</th>\n",
       "      <th>price</th>\n",
       "      <th>pack_size</th>\n",
       "      <th>Uses</th>\n",
       "      <th>intro_0</th>\n",
       "      <th>intro_1</th>\n",
       "      <th>How_to_use?</th>\n",
       "      <th>How_it_works?</th>\n",
       "      <th>expert_advice</th>\n",
       "      <th>safety_advice</th>\n",
       "      <th>side_effects</th>\n",
       "      <th>faqs</th>\n",
       "      <th>Images</th>\n",
       "      <th>lv_url</th>\n",
       "      <th>url</th>\n",
       "      <th>Clean_expert_advice</th>\n",
       "      <th>Clean_Uses</th>\n",
       "      <th>Clean_side_effects</th>\n",
       "    </tr>\n",
       "  </thead>\n",
       "  <tbody>\n",
       "    <tr>\n",
       "      <th>0</th>\n",
       "      <td>Zofloxin 200mg Tablet</td>\n",
       "      <td>52.0</td>\n",
       "      <td>10 tablets in 1 strip</td>\n",
       "      <td>[\"Bacterial infections\"]</td>\n",
       "      <td>Zofloxin 200mg Tablet is an antibiotic, used i...</td>\n",
       "      <td>Zofloxin 200mg Tablet should be used in the do...</td>\n",
       "      <td>NaN</td>\n",
       "      <td>NaN</td>\n",
       "      <td>&lt;ul&gt;&lt;li&gt;&lt;div&gt;Your doctor has prescribed Zoflox...</td>\n",
       "      <td>[{\"0\":\"alcohol\",\"1\":\"It is unsafe to consume a...</td>\n",
       "      <td>[[\"Nausea\",\"Stomach pain\",\"Diarrhea\"]]</td>\n",
       "      <td>[{\"0\":\"Q. Can I take Zofloxin with paracetamol...</td>\n",
       "      <td>NaN</td>\n",
       "      <td>https://www.1mg.com/drugs/zofloxin-200mg-table...</td>\n",
       "      <td>https://www.1mg.com/drugs/Zofloxin-Tablet-581630</td>\n",
       "      <td>Your doctor has prescribed Zofloxin 200mg Tabl...</td>\n",
       "      <td>Bacterial infections</td>\n",
       "      <td>Nausea,Stomach pain,Diarrhea</td>\n",
       "    </tr>\n",
       "    <tr>\n",
       "      <th>1</th>\n",
       "      <td>Zevozine FX 10mg/120mg Tablet</td>\n",
       "      <td>116.0</td>\n",
       "      <td>10 tablets in 1 strip</td>\n",
       "      <td>[\"Sneezing and runny nose due to allergies\"]</td>\n",
       "      <td>Zevozine FX 10mg/120mg Tablet is a combination...</td>\n",
       "      <td>Zevozine FX 10mg/120mg Tablet is taken with or...</td>\n",
       "      <td>NaN</td>\n",
       "      <td>NaN</td>\n",
       "      <td>&lt;ul&gt;&lt;li&gt;You have been prescribed Zevozine FX 1...</td>\n",
       "      <td>[{\"0\":\"alcohol\",\"1\":\"Caution is advised when c...</td>\n",
       "      <td>[[\"Nausea\",\"Diarrhea\",\"Vomiting\",\"Skin rash\",\"...</td>\n",
       "      <td>[{\"0\":\"Q. What is Zevozine FX ?\",\"1\":\"Zevozine...</td>\n",
       "      <td>NaN</td>\n",
       "      <td>https://www.1mg.com/drugs/zevozine-fx-10mg-120...</td>\n",
       "      <td>https://www.1mg.com/drugs/Zevozine FX-Tablet-5...</td>\n",
       "      <td>You have been prescribed Zevozine FX 10mg/120m...</td>\n",
       "      <td>Sneezing and runny nose due to allergies</td>\n",
       "      <td>Nausea,Diarrhea,Vomiting,Skin rash,Flu-like sy...</td>\n",
       "    </tr>\n",
       "  </tbody>\n",
       "</table>\n",
       "</div>"
      ],
      "text/plain": [
       "                            name  price              pack_size  \\\n",
       "0          Zofloxin 200mg Tablet   52.0  10 tablets in 1 strip   \n",
       "1  Zevozine FX 10mg/120mg Tablet  116.0  10 tablets in 1 strip   \n",
       "\n",
       "                                           Uses  \\\n",
       "0                      [\"Bacterial infections\"]   \n",
       "1  [\"Sneezing and runny nose due to allergies\"]   \n",
       "\n",
       "                                             intro_0  \\\n",
       "0  Zofloxin 200mg Tablet is an antibiotic, used i...   \n",
       "1  Zevozine FX 10mg/120mg Tablet is a combination...   \n",
       "\n",
       "                                             intro_1  How_to_use?  \\\n",
       "0  Zofloxin 200mg Tablet should be used in the do...          NaN   \n",
       "1  Zevozine FX 10mg/120mg Tablet is taken with or...          NaN   \n",
       "\n",
       "   How_it_works?                                      expert_advice  \\\n",
       "0            NaN  <ul><li><div>Your doctor has prescribed Zoflox...   \n",
       "1            NaN  <ul><li>You have been prescribed Zevozine FX 1...   \n",
       "\n",
       "                                       safety_advice  \\\n",
       "0  [{\"0\":\"alcohol\",\"1\":\"It is unsafe to consume a...   \n",
       "1  [{\"0\":\"alcohol\",\"1\":\"Caution is advised when c...   \n",
       "\n",
       "                                        side_effects  \\\n",
       "0             [[\"Nausea\",\"Stomach pain\",\"Diarrhea\"]]   \n",
       "1  [[\"Nausea\",\"Diarrhea\",\"Vomiting\",\"Skin rash\",\"...   \n",
       "\n",
       "                                                faqs Images  \\\n",
       "0  [{\"0\":\"Q. Can I take Zofloxin with paracetamol...    NaN   \n",
       "1  [{\"0\":\"Q. What is Zevozine FX ?\",\"1\":\"Zevozine...    NaN   \n",
       "\n",
       "                                              lv_url  \\\n",
       "0  https://www.1mg.com/drugs/zofloxin-200mg-table...   \n",
       "1  https://www.1mg.com/drugs/zevozine-fx-10mg-120...   \n",
       "\n",
       "                                                 url  \\\n",
       "0   https://www.1mg.com/drugs/Zofloxin-Tablet-581630   \n",
       "1  https://www.1mg.com/drugs/Zevozine FX-Tablet-5...   \n",
       "\n",
       "                                 Clean_expert_advice  \\\n",
       "0  Your doctor has prescribed Zofloxin 200mg Tabl...   \n",
       "1  You have been prescribed Zevozine FX 10mg/120m...   \n",
       "\n",
       "                                 Clean_Uses  \\\n",
       "0                      Bacterial infections   \n",
       "1  Sneezing and runny nose due to allergies   \n",
       "\n",
       "                                  Clean_side_effects  \n",
       "0                       Nausea,Stomach pain,Diarrhea  \n",
       "1  Nausea,Diarrhea,Vomiting,Skin rash,Flu-like sy...  "
      ]
     },
     "execution_count": 90,
     "metadata": {},
     "output_type": "execute_result"
    }
   ],
   "source": [
    "df.head(2)"
   ]
  },
  {
   "cell_type": "code",
   "execution_count": 101,
   "metadata": {},
   "outputs": [
    {
     "data": {
      "text/plain": [
       "138022"
      ]
     },
     "execution_count": 101,
     "metadata": {},
     "output_type": "execute_result"
    }
   ],
   "source": [
    "df['How_to_use?'].isnull().sum()"
   ]
  },
  {
   "cell_type": "code",
   "execution_count": 100,
   "metadata": {},
   "outputs": [],
   "source": [
    "df.to_csv('./Untitled Folder/df.csv',index=False)"
   ]
  },
  {
   "cell_type": "code",
   "execution_count": 1,
   "metadata": {},
   "outputs": [],
   "source": [
    "import pandas as pd\n",
    "df = pd.read_csv('./Untitled Folder/df.csv')"
   ]
  },
  {
   "cell_type": "code",
   "execution_count": 2,
   "metadata": {},
   "outputs": [
    {
     "data": {
      "text/html": [
       "<div>\n",
       "<style scoped>\n",
       "    .dataframe tbody tr th:only-of-type {\n",
       "        vertical-align: middle;\n",
       "    }\n",
       "\n",
       "    .dataframe tbody tr th {\n",
       "        vertical-align: top;\n",
       "    }\n",
       "\n",
       "    .dataframe thead th {\n",
       "        text-align: right;\n",
       "    }\n",
       "</style>\n",
       "<table border=\"1\" class=\"dataframe\">\n",
       "  <thead>\n",
       "    <tr style=\"text-align: right;\">\n",
       "      <th></th>\n",
       "      <th>name</th>\n",
       "      <th>price</th>\n",
       "      <th>pack_size</th>\n",
       "      <th>Uses</th>\n",
       "      <th>intro_0</th>\n",
       "      <th>intro_1</th>\n",
       "      <th>How_to_use?</th>\n",
       "      <th>How_it_works?</th>\n",
       "      <th>expert_advice</th>\n",
       "      <th>safety_advice</th>\n",
       "      <th>side_effects</th>\n",
       "      <th>faqs</th>\n",
       "      <th>Images</th>\n",
       "      <th>lv_url</th>\n",
       "      <th>url</th>\n",
       "      <th>Clean_expert_advice</th>\n",
       "      <th>Clean_Uses</th>\n",
       "      <th>Clean_side_effects</th>\n",
       "    </tr>\n",
       "  </thead>\n",
       "  <tbody>\n",
       "    <tr>\n",
       "      <th>0</th>\n",
       "      <td>Zofloxin 200mg Tablet</td>\n",
       "      <td>52.0</td>\n",
       "      <td>10 tablets in 1 strip</td>\n",
       "      <td>[\"Bacterial infections\"]</td>\n",
       "      <td>Zofloxin 200mg Tablet is an antibiotic, used i...</td>\n",
       "      <td>Zofloxin 200mg Tablet should be used in the do...</td>\n",
       "      <td>NaN</td>\n",
       "      <td>NaN</td>\n",
       "      <td>&lt;ul&gt;&lt;li&gt;&lt;div&gt;Your doctor has prescribed Zoflox...</td>\n",
       "      <td>[{\"0\":\"alcohol\",\"1\":\"It is unsafe to consume a...</td>\n",
       "      <td>[[\"Nausea\",\"Stomach pain\",\"Diarrhea\"]]</td>\n",
       "      <td>[{\"0\":\"Q. Can I take Zofloxin with paracetamol...</td>\n",
       "      <td>NaN</td>\n",
       "      <td>https://www.1mg.com/drugs/zofloxin-200mg-table...</td>\n",
       "      <td>https://www.1mg.com/drugs/Zofloxin-Tablet-581630</td>\n",
       "      <td>Your doctor has prescribed Zofloxin 200mg Tabl...</td>\n",
       "      <td>Bacterial infections</td>\n",
       "      <td>Nausea,Stomach pain,Diarrhea</td>\n",
       "    </tr>\n",
       "    <tr>\n",
       "      <th>1</th>\n",
       "      <td>Zevozine FX 10mg/120mg Tablet</td>\n",
       "      <td>116.0</td>\n",
       "      <td>10 tablets in 1 strip</td>\n",
       "      <td>[\"Sneezing and runny nose due to allergies\"]</td>\n",
       "      <td>Zevozine FX 10mg/120mg Tablet is a combination...</td>\n",
       "      <td>Zevozine FX 10mg/120mg Tablet is taken with or...</td>\n",
       "      <td>NaN</td>\n",
       "      <td>NaN</td>\n",
       "      <td>&lt;ul&gt;&lt;li&gt;You have been prescribed Zevozine FX 1...</td>\n",
       "      <td>[{\"0\":\"alcohol\",\"1\":\"Caution is advised when c...</td>\n",
       "      <td>[[\"Nausea\",\"Diarrhea\",\"Vomiting\",\"Skin rash\",\"...</td>\n",
       "      <td>[{\"0\":\"Q. What is Zevozine FX ?\",\"1\":\"Zevozine...</td>\n",
       "      <td>NaN</td>\n",
       "      <td>https://www.1mg.com/drugs/zevozine-fx-10mg-120...</td>\n",
       "      <td>https://www.1mg.com/drugs/Zevozine FX-Tablet-5...</td>\n",
       "      <td>You have been prescribed Zevozine FX 10mg/120m...</td>\n",
       "      <td>Sneezing and runny nose due to allergies</td>\n",
       "      <td>Nausea,Diarrhea,Vomiting,Skin rash,Flu-like sy...</td>\n",
       "    </tr>\n",
       "  </tbody>\n",
       "</table>\n",
       "</div>"
      ],
      "text/plain": [
       "                            name  price              pack_size  \\\n",
       "0          Zofloxin 200mg Tablet   52.0  10 tablets in 1 strip   \n",
       "1  Zevozine FX 10mg/120mg Tablet  116.0  10 tablets in 1 strip   \n",
       "\n",
       "                                           Uses  \\\n",
       "0                      [\"Bacterial infections\"]   \n",
       "1  [\"Sneezing and runny nose due to allergies\"]   \n",
       "\n",
       "                                             intro_0  \\\n",
       "0  Zofloxin 200mg Tablet is an antibiotic, used i...   \n",
       "1  Zevozine FX 10mg/120mg Tablet is a combination...   \n",
       "\n",
       "                                             intro_1  How_to_use?  \\\n",
       "0  Zofloxin 200mg Tablet should be used in the do...          NaN   \n",
       "1  Zevozine FX 10mg/120mg Tablet is taken with or...          NaN   \n",
       "\n",
       "   How_it_works?                                      expert_advice  \\\n",
       "0            NaN  <ul><li><div>Your doctor has prescribed Zoflox...   \n",
       "1            NaN  <ul><li>You have been prescribed Zevozine FX 1...   \n",
       "\n",
       "                                       safety_advice  \\\n",
       "0  [{\"0\":\"alcohol\",\"1\":\"It is unsafe to consume a...   \n",
       "1  [{\"0\":\"alcohol\",\"1\":\"Caution is advised when c...   \n",
       "\n",
       "                                        side_effects  \\\n",
       "0             [[\"Nausea\",\"Stomach pain\",\"Diarrhea\"]]   \n",
       "1  [[\"Nausea\",\"Diarrhea\",\"Vomiting\",\"Skin rash\",\"...   \n",
       "\n",
       "                                                faqs Images  \\\n",
       "0  [{\"0\":\"Q. Can I take Zofloxin with paracetamol...    NaN   \n",
       "1  [{\"0\":\"Q. What is Zevozine FX ?\",\"1\":\"Zevozine...    NaN   \n",
       "\n",
       "                                              lv_url  \\\n",
       "0  https://www.1mg.com/drugs/zofloxin-200mg-table...   \n",
       "1  https://www.1mg.com/drugs/zevozine-fx-10mg-120...   \n",
       "\n",
       "                                                 url  \\\n",
       "0   https://www.1mg.com/drugs/Zofloxin-Tablet-581630   \n",
       "1  https://www.1mg.com/drugs/Zevozine FX-Tablet-5...   \n",
       "\n",
       "                                 Clean_expert_advice  \\\n",
       "0  Your doctor has prescribed Zofloxin 200mg Tabl...   \n",
       "1  You have been prescribed Zevozine FX 10mg/120m...   \n",
       "\n",
       "                                 Clean_Uses  \\\n",
       "0                      Bacterial infections   \n",
       "1  Sneezing and runny nose due to allergies   \n",
       "\n",
       "                                  Clean_side_effects  \n",
       "0                       Nausea,Stomach pain,Diarrhea  \n",
       "1  Nausea,Diarrhea,Vomiting,Skin rash,Flu-like sy...  "
      ]
     },
     "execution_count": 2,
     "metadata": {},
     "output_type": "execute_result"
    }
   ],
   "source": [
    "df.head(2)"
   ]
  },
  {
   "cell_type": "markdown",
   "metadata": {},
   "source": [
    "# preprocesing intros"
   ]
  },
  {
   "cell_type": "code",
   "execution_count": 4,
   "metadata": {},
   "outputs": [
    {
     "name": "stderr",
     "output_type": "stream",
     "text": [
      "100%|██████████| 23/23 [00:00<00:00, 666.71it/s]\n",
      "100%|██████████| 44/44 [00:00<00:00, 6446.24it/s]\n"
     ]
    }
   ],
   "source": [
    "#some values are NAN, so we need to replace it with a empty string so that we can itreate over it\n",
    "for row in tqdm(df.loc[df.intro_0.isnull(), 'intro_0'].index):\n",
    "    df.at[row, 'intro_0'] = \" \"\n",
    "    \n",
    "for row in tqdm(df.loc[df.intro_1.isnull(), 'intro_1'].index):\n",
    "    df.at[row, 'intro_1'] = \" \""
   ]
  },
  {
   "cell_type": "code",
   "execution_count": 5,
   "metadata": {},
   "outputs": [
    {
     "name": "stderr",
     "output_type": "stream",
     "text": [
      "100%|██████████| 138022/138022 [01:37<00:00, 1408.93it/s]\n"
     ]
    }
   ],
   "source": [
    "intro_0 = []\n",
    "# tqdm is for printing the status bar\n",
    "for intro in tqdm(df['intro_0'].values):\n",
    "    intro = BeautifulSoup(intro, 'lxml').get_text()\n",
    "    intro_0.append(intro.strip())"
   ]
  },
  {
   "cell_type": "code",
   "execution_count": 6,
   "metadata": {},
   "outputs": [
    {
     "name": "stderr",
     "output_type": "stream",
     "text": [
      "100%|██████████| 138022/138022 [02:31<00:00, 909.68it/s] \n"
     ]
    }
   ],
   "source": [
    "intro_1 = []\n",
    "# tqdm is for printing the status bar\n",
    "for intro in tqdm(df['intro_1'].values):\n",
    "    intro = BeautifulSoup(intro, 'lxml').get_text()\n",
    "    intro_1.append(intro.strip())"
   ]
  },
  {
   "cell_type": "code",
   "execution_count": 7,
   "metadata": {},
   "outputs": [],
   "source": [
    "df[\"Clean_intro_0\"] = [intro_0[i] for i in range(len(df))]"
   ]
  },
  {
   "cell_type": "code",
   "execution_count": 8,
   "metadata": {},
   "outputs": [],
   "source": [
    "df[\"Clean_intro_1\"] = [intro_1[i] for i in range(len(df))]"
   ]
  },
  {
   "cell_type": "code",
   "execution_count": null,
   "metadata": {},
   "outputs": [],
   "source": []
  },
  {
   "cell_type": "code",
   "execution_count": null,
   "metadata": {},
   "outputs": [],
   "source": []
  },
  {
   "cell_type": "code",
   "execution_count": null,
   "metadata": {},
   "outputs": [],
   "source": []
  },
  {
   "cell_type": "code",
   "execution_count": 10,
   "metadata": {},
   "outputs": [],
   "source": [
    "df_final_clean = df.drop(['Uses','intro_0','intro_1', 'expert_advice', 'safety_advice', 'side_effects','faqs'], axis=1)"
   ]
  },
  {
   "cell_type": "code",
   "execution_count": 11,
   "metadata": {},
   "outputs": [],
   "source": [
    "df_final = df_final_clean.copy()"
   ]
  },
  {
   "cell_type": "code",
   "execution_count": 12,
   "metadata": {},
   "outputs": [
    {
     "data": {
      "text/html": [
       "<div>\n",
       "<style scoped>\n",
       "    .dataframe tbody tr th:only-of-type {\n",
       "        vertical-align: middle;\n",
       "    }\n",
       "\n",
       "    .dataframe tbody tr th {\n",
       "        vertical-align: top;\n",
       "    }\n",
       "\n",
       "    .dataframe thead th {\n",
       "        text-align: right;\n",
       "    }\n",
       "</style>\n",
       "<table border=\"1\" class=\"dataframe\">\n",
       "  <thead>\n",
       "    <tr style=\"text-align: right;\">\n",
       "      <th></th>\n",
       "      <th>name</th>\n",
       "      <th>price</th>\n",
       "      <th>pack_size</th>\n",
       "      <th>How_to_use?</th>\n",
       "      <th>How_it_works?</th>\n",
       "      <th>Images</th>\n",
       "      <th>lv_url</th>\n",
       "      <th>url</th>\n",
       "      <th>Clean_expert_advice</th>\n",
       "      <th>Clean_Uses</th>\n",
       "      <th>Clean_side_effects</th>\n",
       "      <th>Clean_intro_0</th>\n",
       "      <th>Clean_intro_1</th>\n",
       "    </tr>\n",
       "  </thead>\n",
       "  <tbody>\n",
       "    <tr>\n",
       "      <th>0</th>\n",
       "      <td>Zofloxin 200mg Tablet</td>\n",
       "      <td>52.0</td>\n",
       "      <td>10 tablets in 1 strip</td>\n",
       "      <td>NaN</td>\n",
       "      <td>NaN</td>\n",
       "      <td>NaN</td>\n",
       "      <td>https://www.1mg.com/drugs/zofloxin-200mg-table...</td>\n",
       "      <td>https://www.1mg.com/drugs/Zofloxin-Tablet-581630</td>\n",
       "      <td>Your doctor has prescribed Zofloxin 200mg Tabl...</td>\n",
       "      <td>Bacterial infections</td>\n",
       "      <td>Nausea,Stomach pain,Diarrhea</td>\n",
       "      <td>Zofloxin 200mg Tablet is an antibiotic, used i...</td>\n",
       "      <td>Zofloxin 200mg Tablet should be used in the do...</td>\n",
       "    </tr>\n",
       "    <tr>\n",
       "      <th>1</th>\n",
       "      <td>Zevozine FX 10mg/120mg Tablet</td>\n",
       "      <td>116.0</td>\n",
       "      <td>10 tablets in 1 strip</td>\n",
       "      <td>NaN</td>\n",
       "      <td>NaN</td>\n",
       "      <td>NaN</td>\n",
       "      <td>https://www.1mg.com/drugs/zevozine-fx-10mg-120...</td>\n",
       "      <td>https://www.1mg.com/drugs/Zevozine FX-Tablet-5...</td>\n",
       "      <td>You have been prescribed Zevozine FX 10mg/120m...</td>\n",
       "      <td>Sneezing and runny nose due to allergies</td>\n",
       "      <td>Nausea,Diarrhea,Vomiting,Skin rash,Flu-like sy...</td>\n",
       "      <td>Zevozine FX 10mg/120mg Tablet is a combination...</td>\n",
       "      <td>Zevozine FX 10mg/120mg Tablet is taken with or...</td>\n",
       "    </tr>\n",
       "  </tbody>\n",
       "</table>\n",
       "</div>"
      ],
      "text/plain": [
       "                            name  price              pack_size  How_to_use?  \\\n",
       "0          Zofloxin 200mg Tablet   52.0  10 tablets in 1 strip          NaN   \n",
       "1  Zevozine FX 10mg/120mg Tablet  116.0  10 tablets in 1 strip          NaN   \n",
       "\n",
       "   How_it_works? Images                                             lv_url  \\\n",
       "0            NaN    NaN  https://www.1mg.com/drugs/zofloxin-200mg-table...   \n",
       "1            NaN    NaN  https://www.1mg.com/drugs/zevozine-fx-10mg-120...   \n",
       "\n",
       "                                                 url  \\\n",
       "0   https://www.1mg.com/drugs/Zofloxin-Tablet-581630   \n",
       "1  https://www.1mg.com/drugs/Zevozine FX-Tablet-5...   \n",
       "\n",
       "                                 Clean_expert_advice  \\\n",
       "0  Your doctor has prescribed Zofloxin 200mg Tabl...   \n",
       "1  You have been prescribed Zevozine FX 10mg/120m...   \n",
       "\n",
       "                                 Clean_Uses  \\\n",
       "0                      Bacterial infections   \n",
       "1  Sneezing and runny nose due to allergies   \n",
       "\n",
       "                                  Clean_side_effects  \\\n",
       "0                       Nausea,Stomach pain,Diarrhea   \n",
       "1  Nausea,Diarrhea,Vomiting,Skin rash,Flu-like sy...   \n",
       "\n",
       "                                       Clean_intro_0  \\\n",
       "0  Zofloxin 200mg Tablet is an antibiotic, used i...   \n",
       "1  Zevozine FX 10mg/120mg Tablet is a combination...   \n",
       "\n",
       "                                       Clean_intro_1  \n",
       "0  Zofloxin 200mg Tablet should be used in the do...  \n",
       "1  Zevozine FX 10mg/120mg Tablet is taken with or...  "
      ]
     },
     "execution_count": 12,
     "metadata": {},
     "output_type": "execute_result"
    }
   ],
   "source": [
    "df_final.head(2)"
   ]
  },
  {
   "cell_type": "markdown",
   "metadata": {},
   "source": [
    "# Merge the csv's to final one:"
   ]
  },
  {
   "cell_type": "code",
   "execution_count": 13,
   "metadata": {},
   "outputs": [],
   "source": [
    "final_safety_advice_alcohol = pd.read_csv('./Untitled Folder/final_safety_advice_alcohol.csv')"
   ]
  },
  {
   "cell_type": "code",
   "execution_count": 14,
   "metadata": {},
   "outputs": [],
   "source": [
    "final_safety_advice_pregnancy = pd.read_csv('./Untitled Folder/final_safety_advice_pregnancy.csv')\n",
    "final_safety_advice_breastfeeding = pd.read_csv('./Untitled Folder/final_safety_advice_breastfeeding.csv')\n",
    "final_safety_advice_driving = pd.read_csv('./Untitled Folder/final_safety_advice_driving.csv')\n",
    "final_safety_advice_kidney = pd.read_csv('./Untitled Folder/final_safety_advice_kidney.csv')\n",
    "final_safety_advice_liver = pd.read_csv('./Untitled Folder/final_safety_advice_liver.csv')"
   ]
  },
  {
   "cell_type": "code",
   "execution_count": 15,
   "metadata": {},
   "outputs": [],
   "source": [
    "df_final_merged = pd.concat([df_final, final_safety_advice_alcohol,final_safety_advice_pregnancy,final_safety_advice_breastfeeding,final_safety_advice_driving,final_safety_advice_kidney,final_safety_advice_liver], axis=1)"
   ]
  },
  {
   "cell_type": "code",
   "execution_count": 16,
   "metadata": {},
   "outputs": [
    {
     "data": {
      "text/html": [
       "<div>\n",
       "<style scoped>\n",
       "    .dataframe tbody tr th:only-of-type {\n",
       "        vertical-align: middle;\n",
       "    }\n",
       "\n",
       "    .dataframe tbody tr th {\n",
       "        vertical-align: top;\n",
       "    }\n",
       "\n",
       "    .dataframe thead th {\n",
       "        text-align: right;\n",
       "    }\n",
       "</style>\n",
       "<table border=\"1\" class=\"dataframe\">\n",
       "  <thead>\n",
       "    <tr style=\"text-align: right;\">\n",
       "      <th></th>\n",
       "      <th>name</th>\n",
       "      <th>price</th>\n",
       "      <th>pack_size</th>\n",
       "      <th>How_to_use?</th>\n",
       "      <th>How_it_works?</th>\n",
       "      <th>Images</th>\n",
       "      <th>lv_url</th>\n",
       "      <th>url</th>\n",
       "      <th>Clean_expert_advice</th>\n",
       "      <th>Clean_Uses</th>\n",
       "      <th>...</th>\n",
       "      <th>pregnancy_0</th>\n",
       "      <th>pregnancy_1</th>\n",
       "      <th>breastfeeding_0</th>\n",
       "      <th>breastfeeding_1</th>\n",
       "      <th>driving_0</th>\n",
       "      <th>driving_1</th>\n",
       "      <th>kidney_0</th>\n",
       "      <th>kidney_1</th>\n",
       "      <th>liver_0</th>\n",
       "      <th>liver_1</th>\n",
       "    </tr>\n",
       "  </thead>\n",
       "  <tbody>\n",
       "    <tr>\n",
       "      <th>0</th>\n",
       "      <td>Zofloxin 200mg Tablet</td>\n",
       "      <td>52.0</td>\n",
       "      <td>10 tablets in 1 strip</td>\n",
       "      <td>NaN</td>\n",
       "      <td>NaN</td>\n",
       "      <td>NaN</td>\n",
       "      <td>https://www.1mg.com/drugs/zofloxin-200mg-table...</td>\n",
       "      <td>https://www.1mg.com/drugs/Zofloxin-Tablet-581630</td>\n",
       "      <td>Your doctor has prescribed Zofloxin 200mg Tabl...</td>\n",
       "      <td>Bacterial infections</td>\n",
       "      <td>...</td>\n",
       "      <td>pregnancy</td>\n",
       "      <td>Zofloxin 200mg Tablet may be unsafe to use dur...</td>\n",
       "      <td>breastfeeding</td>\n",
       "      <td>Zofloxin 200mg Tablet is probably unsafe to us...</td>\n",
       "      <td>driving</td>\n",
       "      <td>Zofloxin 200mg Tablet may decrease alertness, ...</td>\n",
       "      <td>kidney</td>\n",
       "      <td>Zofloxin 200mg Tablet should be used with caut...</td>\n",
       "      <td>liver</td>\n",
       "      <td>Zofloxin 200mg Tablet should be used with caut...</td>\n",
       "    </tr>\n",
       "    <tr>\n",
       "      <th>1</th>\n",
       "      <td>Zevozine FX 10mg/120mg Tablet</td>\n",
       "      <td>116.0</td>\n",
       "      <td>10 tablets in 1 strip</td>\n",
       "      <td>NaN</td>\n",
       "      <td>NaN</td>\n",
       "      <td>NaN</td>\n",
       "      <td>https://www.1mg.com/drugs/zevozine-fx-10mg-120...</td>\n",
       "      <td>https://www.1mg.com/drugs/Zevozine FX-Tablet-5...</td>\n",
       "      <td>You have been prescribed Zevozine FX 10mg/120m...</td>\n",
       "      <td>Sneezing and runny nose due to allergies</td>\n",
       "      <td>...</td>\n",
       "      <td>pregnancy</td>\n",
       "      <td>Zevozine FX 10mg/120mg Tablet may be unsafe to...</td>\n",
       "      <td>breastfeeding</td>\n",
       "      <td>Zevozine FX 10mg/120mg Tablet is probably safe...</td>\n",
       "      <td>driving</td>\n",
       "      <td>Zevozine FX 10mg/120mg Tablet may decrease ale...</td>\n",
       "      <td>kidney</td>\n",
       "      <td>Zevozine FX 10mg/120mg Tablet should be used w...</td>\n",
       "      <td>liver</td>\n",
       "      <td>Zevozine FX 10mg/120mg Tablet is probably safe...</td>\n",
       "    </tr>\n",
       "  </tbody>\n",
       "</table>\n",
       "<p>2 rows × 25 columns</p>\n",
       "</div>"
      ],
      "text/plain": [
       "                            name  price              pack_size  How_to_use?  \\\n",
       "0          Zofloxin 200mg Tablet   52.0  10 tablets in 1 strip          NaN   \n",
       "1  Zevozine FX 10mg/120mg Tablet  116.0  10 tablets in 1 strip          NaN   \n",
       "\n",
       "   How_it_works? Images                                             lv_url  \\\n",
       "0            NaN    NaN  https://www.1mg.com/drugs/zofloxin-200mg-table...   \n",
       "1            NaN    NaN  https://www.1mg.com/drugs/zevozine-fx-10mg-120...   \n",
       "\n",
       "                                                 url  \\\n",
       "0   https://www.1mg.com/drugs/Zofloxin-Tablet-581630   \n",
       "1  https://www.1mg.com/drugs/Zevozine FX-Tablet-5...   \n",
       "\n",
       "                                 Clean_expert_advice  \\\n",
       "0  Your doctor has prescribed Zofloxin 200mg Tabl...   \n",
       "1  You have been prescribed Zevozine FX 10mg/120m...   \n",
       "\n",
       "                                 Clean_Uses  ... pregnancy_0  \\\n",
       "0                      Bacterial infections  ...   pregnancy   \n",
       "1  Sneezing and runny nose due to allergies  ...   pregnancy   \n",
       "\n",
       "                                         pregnancy_1 breastfeeding_0  \\\n",
       "0  Zofloxin 200mg Tablet may be unsafe to use dur...   breastfeeding   \n",
       "1  Zevozine FX 10mg/120mg Tablet may be unsafe to...   breastfeeding   \n",
       "\n",
       "                                     breastfeeding_1 driving_0  \\\n",
       "0  Zofloxin 200mg Tablet is probably unsafe to us...   driving   \n",
       "1  Zevozine FX 10mg/120mg Tablet is probably safe...   driving   \n",
       "\n",
       "                                           driving_1 kidney_0  \\\n",
       "0  Zofloxin 200mg Tablet may decrease alertness, ...   kidney   \n",
       "1  Zevozine FX 10mg/120mg Tablet may decrease ale...   kidney   \n",
       "\n",
       "                                            kidney_1 liver_0  \\\n",
       "0  Zofloxin 200mg Tablet should be used with caut...   liver   \n",
       "1  Zevozine FX 10mg/120mg Tablet should be used w...   liver   \n",
       "\n",
       "                                             liver_1  \n",
       "0  Zofloxin 200mg Tablet should be used with caut...  \n",
       "1  Zevozine FX 10mg/120mg Tablet is probably safe...  \n",
       "\n",
       "[2 rows x 25 columns]"
      ]
     },
     "execution_count": 16,
     "metadata": {},
     "output_type": "execute_result"
    }
   ],
   "source": [
    "df_final_merged.head(2)"
   ]
  },
  {
   "cell_type": "code",
   "execution_count": 17,
   "metadata": {},
   "outputs": [],
   "source": [
    "df_final_merged.to_csv('./Untitled Folder/df_final.csv',index=False)"
   ]
  },
  {
   "cell_type": "code",
   "execution_count": null,
   "metadata": {},
   "outputs": [],
   "source": []
  },
  {
   "cell_type": "code",
   "execution_count": null,
   "metadata": {},
   "outputs": [],
   "source": []
  },
  {
   "cell_type": "code",
   "execution_count": null,
   "metadata": {},
   "outputs": [],
   "source": []
  },
  {
   "cell_type": "code",
   "execution_count": null,
   "metadata": {},
   "outputs": [],
   "source": []
  },
  {
   "cell_type": "code",
   "execution_count": null,
   "metadata": {},
   "outputs": [],
   "source": []
  },
  {
   "cell_type": "code",
   "execution_count": null,
   "metadata": {},
   "outputs": [],
   "source": []
  },
  {
   "cell_type": "code",
   "execution_count": null,
   "metadata": {},
   "outputs": [],
   "source": []
  },
  {
   "cell_type": "code",
   "execution_count": 13,
   "metadata": {},
   "outputs": [],
   "source": [
    "# Merging Faqs\n",
    "faqs_df_series = pd.read_csv('./Untitled Folder/faqs_df_series.csv')"
   ]
  },
  {
   "cell_type": "code",
   "execution_count": 15,
   "metadata": {},
   "outputs": [
    {
     "data": {
      "text/html": [
       "<div>\n",
       "<style scoped>\n",
       "    .dataframe tbody tr th:only-of-type {\n",
       "        vertical-align: middle;\n",
       "    }\n",
       "\n",
       "    .dataframe tbody tr th {\n",
       "        vertical-align: top;\n",
       "    }\n",
       "\n",
       "    .dataframe thead th {\n",
       "        text-align: right;\n",
       "    }\n",
       "</style>\n",
       "<table border=\"1\" class=\"dataframe\">\n",
       "  <thead>\n",
       "    <tr style=\"text-align: right;\">\n",
       "      <th></th>\n",
       "      <th>faqs_0</th>\n",
       "      <th>faqs_1</th>\n",
       "      <th>faqs_2</th>\n",
       "      <th>faqs_3</th>\n",
       "      <th>faqs_4</th>\n",
       "      <th>faqs_5</th>\n",
       "      <th>faqs_6</th>\n",
       "      <th>faqs_7</th>\n",
       "      <th>faqs_8</th>\n",
       "      <th>faqs_9</th>\n",
       "      <th>...</th>\n",
       "      <th>faqs_35</th>\n",
       "      <th>faqs_36</th>\n",
       "      <th>faqs_37</th>\n",
       "      <th>faqs_38</th>\n",
       "      <th>faqs_39</th>\n",
       "      <th>faqs_40</th>\n",
       "      <th>faqs_41</th>\n",
       "      <th>faqs_42</th>\n",
       "      <th>faqs_43</th>\n",
       "      <th>faqs_44</th>\n",
       "    </tr>\n",
       "  </thead>\n",
       "  <tbody>\n",
       "    <tr>\n",
       "      <th>0</th>\n",
       "      <td>{'0': 'Q. Can I take Zofloxin with paracetamol...</td>\n",
       "      <td>{'0': 'Q. Can the use of Zofloxin cause diarrh...</td>\n",
       "      <td>{'0': 'Q. Can I stop taking Zofloxin when I fe...</td>\n",
       "      <td>{'0': 'Q. Can the use of Zofloxin increase the...</td>\n",
       "      <td>NaN</td>\n",
       "      <td>NaN</td>\n",
       "      <td>NaN</td>\n",
       "      <td>NaN</td>\n",
       "      <td>NaN</td>\n",
       "      <td>NaN</td>\n",
       "      <td>...</td>\n",
       "      <td>NaN</td>\n",
       "      <td>NaN</td>\n",
       "      <td>NaN</td>\n",
       "      <td>NaN</td>\n",
       "      <td>NaN</td>\n",
       "      <td>NaN</td>\n",
       "      <td>NaN</td>\n",
       "      <td>NaN</td>\n",
       "      <td>NaN</td>\n",
       "      <td>NaN</td>\n",
       "    </tr>\n",
       "    <tr>\n",
       "      <th>1</th>\n",
       "      <td>{'0': 'Q. What is Zevozine FX ?', '1': 'Zevozi...</td>\n",
       "      <td>{'0': 'Q. Can Zevozine FX be stopped when alle...</td>\n",
       "      <td>{'0': 'Q. Can the use of Zevozine FX cause diz...</td>\n",
       "      <td>{'0': 'Q. Can the use of Zevozine FX cause dry...</td>\n",
       "      <td>{'0': 'Q. What should be avoided in food while...</td>\n",
       "      <td>{'0': 'Q. Will Zevozine FX be more effective i...</td>\n",
       "      <td>{'0': 'Q. What is the recommended storage cond...</td>\n",
       "      <td>NaN</td>\n",
       "      <td>NaN</td>\n",
       "      <td>NaN</td>\n",
       "      <td>...</td>\n",
       "      <td>NaN</td>\n",
       "      <td>NaN</td>\n",
       "      <td>NaN</td>\n",
       "      <td>NaN</td>\n",
       "      <td>NaN</td>\n",
       "      <td>NaN</td>\n",
       "      <td>NaN</td>\n",
       "      <td>NaN</td>\n",
       "      <td>NaN</td>\n",
       "      <td>NaN</td>\n",
       "    </tr>\n",
       "  </tbody>\n",
       "</table>\n",
       "<p>2 rows × 45 columns</p>\n",
       "</div>"
      ],
      "text/plain": [
       "                                              faqs_0  \\\n",
       "0  {'0': 'Q. Can I take Zofloxin with paracetamol...   \n",
       "1  {'0': 'Q. What is Zevozine FX ?', '1': 'Zevozi...   \n",
       "\n",
       "                                              faqs_1  \\\n",
       "0  {'0': 'Q. Can the use of Zofloxin cause diarrh...   \n",
       "1  {'0': 'Q. Can Zevozine FX be stopped when alle...   \n",
       "\n",
       "                                              faqs_2  \\\n",
       "0  {'0': 'Q. Can I stop taking Zofloxin when I fe...   \n",
       "1  {'0': 'Q. Can the use of Zevozine FX cause diz...   \n",
       "\n",
       "                                              faqs_3  \\\n",
       "0  {'0': 'Q. Can the use of Zofloxin increase the...   \n",
       "1  {'0': 'Q. Can the use of Zevozine FX cause dry...   \n",
       "\n",
       "                                              faqs_4  \\\n",
       "0                                                NaN   \n",
       "1  {'0': 'Q. What should be avoided in food while...   \n",
       "\n",
       "                                              faqs_5  \\\n",
       "0                                                NaN   \n",
       "1  {'0': 'Q. Will Zevozine FX be more effective i...   \n",
       "\n",
       "                                              faqs_6 faqs_7 faqs_8 faqs_9  \\\n",
       "0                                                NaN    NaN    NaN    NaN   \n",
       "1  {'0': 'Q. What is the recommended storage cond...    NaN    NaN    NaN   \n",
       "\n",
       "   ... faqs_35 faqs_36 faqs_37 faqs_38 faqs_39 faqs_40 faqs_41 faqs_42  \\\n",
       "0  ...     NaN     NaN     NaN     NaN     NaN     NaN     NaN     NaN   \n",
       "1  ...     NaN     NaN     NaN     NaN     NaN     NaN     NaN     NaN   \n",
       "\n",
       "  faqs_43 faqs_44  \n",
       "0     NaN     NaN  \n",
       "1     NaN     NaN  \n",
       "\n",
       "[2 rows x 45 columns]"
      ]
     },
     "execution_count": 15,
     "metadata": {},
     "output_type": "execute_result"
    }
   ],
   "source": [
    "faqs_df_series.head(2)"
   ]
  },
  {
   "cell_type": "code",
   "execution_count": 16,
   "metadata": {},
   "outputs": [],
   "source": [
    "df_final_merged = pd.concat([df_final_merged,faqs_df_series], axis=1)"
   ]
  },
  {
   "cell_type": "code",
   "execution_count": 17,
   "metadata": {},
   "outputs": [
    {
     "data": {
      "text/html": [
       "<div>\n",
       "<style scoped>\n",
       "    .dataframe tbody tr th:only-of-type {\n",
       "        vertical-align: middle;\n",
       "    }\n",
       "\n",
       "    .dataframe tbody tr th {\n",
       "        vertical-align: top;\n",
       "    }\n",
       "\n",
       "    .dataframe thead th {\n",
       "        text-align: right;\n",
       "    }\n",
       "</style>\n",
       "<table border=\"1\" class=\"dataframe\">\n",
       "  <thead>\n",
       "    <tr style=\"text-align: right;\">\n",
       "      <th></th>\n",
       "      <th>name</th>\n",
       "      <th>price</th>\n",
       "      <th>pack_size</th>\n",
       "      <th>intro_0</th>\n",
       "      <th>intro_1</th>\n",
       "      <th>How_to_use?</th>\n",
       "      <th>How_it_works?</th>\n",
       "      <th>Images</th>\n",
       "      <th>lv_url</th>\n",
       "      <th>url</th>\n",
       "      <th>...</th>\n",
       "      <th>faqs_35</th>\n",
       "      <th>faqs_36</th>\n",
       "      <th>faqs_37</th>\n",
       "      <th>faqs_38</th>\n",
       "      <th>faqs_39</th>\n",
       "      <th>faqs_40</th>\n",
       "      <th>faqs_41</th>\n",
       "      <th>faqs_42</th>\n",
       "      <th>faqs_43</th>\n",
       "      <th>faqs_44</th>\n",
       "    </tr>\n",
       "  </thead>\n",
       "  <tbody>\n",
       "    <tr>\n",
       "      <th>0</th>\n",
       "      <td>Zofloxin 200mg Tablet</td>\n",
       "      <td>52.0</td>\n",
       "      <td>10 tablets in 1 strip</td>\n",
       "      <td>Zofloxin 200mg Tablet is an antibiotic, used i...</td>\n",
       "      <td>Zofloxin 200mg Tablet should be used in the do...</td>\n",
       "      <td>NaN</td>\n",
       "      <td>NaN</td>\n",
       "      <td>NaN</td>\n",
       "      <td>https://www.1mg.com/drugs/zofloxin-200mg-table...</td>\n",
       "      <td>https://www.1mg.com/drugs/Zofloxin-Tablet-581630</td>\n",
       "      <td>...</td>\n",
       "      <td>NaN</td>\n",
       "      <td>NaN</td>\n",
       "      <td>NaN</td>\n",
       "      <td>NaN</td>\n",
       "      <td>NaN</td>\n",
       "      <td>NaN</td>\n",
       "      <td>NaN</td>\n",
       "      <td>NaN</td>\n",
       "      <td>NaN</td>\n",
       "      <td>NaN</td>\n",
       "    </tr>\n",
       "    <tr>\n",
       "      <th>1</th>\n",
       "      <td>Zevozine FX 10mg/120mg Tablet</td>\n",
       "      <td>116.0</td>\n",
       "      <td>10 tablets in 1 strip</td>\n",
       "      <td>Zevozine FX 10mg/120mg Tablet is a combination...</td>\n",
       "      <td>Zevozine FX 10mg/120mg Tablet is taken with or...</td>\n",
       "      <td>NaN</td>\n",
       "      <td>NaN</td>\n",
       "      <td>NaN</td>\n",
       "      <td>https://www.1mg.com/drugs/zevozine-fx-10mg-120...</td>\n",
       "      <td>https://www.1mg.com/drugs/Zevozine FX-Tablet-5...</td>\n",
       "      <td>...</td>\n",
       "      <td>NaN</td>\n",
       "      <td>NaN</td>\n",
       "      <td>NaN</td>\n",
       "      <td>NaN</td>\n",
       "      <td>NaN</td>\n",
       "      <td>NaN</td>\n",
       "      <td>NaN</td>\n",
       "      <td>NaN</td>\n",
       "      <td>NaN</td>\n",
       "      <td>NaN</td>\n",
       "    </tr>\n",
       "  </tbody>\n",
       "</table>\n",
       "<p>2 rows × 70 columns</p>\n",
       "</div>"
      ],
      "text/plain": [
       "                            name  price              pack_size  \\\n",
       "0          Zofloxin 200mg Tablet   52.0  10 tablets in 1 strip   \n",
       "1  Zevozine FX 10mg/120mg Tablet  116.0  10 tablets in 1 strip   \n",
       "\n",
       "                                             intro_0  \\\n",
       "0  Zofloxin 200mg Tablet is an antibiotic, used i...   \n",
       "1  Zevozine FX 10mg/120mg Tablet is a combination...   \n",
       "\n",
       "                                             intro_1  How_to_use?  \\\n",
       "0  Zofloxin 200mg Tablet should be used in the do...          NaN   \n",
       "1  Zevozine FX 10mg/120mg Tablet is taken with or...          NaN   \n",
       "\n",
       "   How_it_works? Images                                             lv_url  \\\n",
       "0            NaN    NaN  https://www.1mg.com/drugs/zofloxin-200mg-table...   \n",
       "1            NaN    NaN  https://www.1mg.com/drugs/zevozine-fx-10mg-120...   \n",
       "\n",
       "                                                 url  ... faqs_35 faqs_36  \\\n",
       "0   https://www.1mg.com/drugs/Zofloxin-Tablet-581630  ...     NaN     NaN   \n",
       "1  https://www.1mg.com/drugs/Zevozine FX-Tablet-5...  ...     NaN     NaN   \n",
       "\n",
       "  faqs_37 faqs_38 faqs_39 faqs_40 faqs_41 faqs_42 faqs_43 faqs_44  \n",
       "0     NaN     NaN     NaN     NaN     NaN     NaN     NaN     NaN  \n",
       "1     NaN     NaN     NaN     NaN     NaN     NaN     NaN     NaN  \n",
       "\n",
       "[2 rows x 70 columns]"
      ]
     },
     "execution_count": 17,
     "metadata": {},
     "output_type": "execute_result"
    }
   ],
   "source": [
    "df_final_merged.head(2)"
   ]
  },
  {
   "cell_type": "code",
   "execution_count": 39,
   "metadata": {},
   "outputs": [],
   "source": [
    "df_final_merged.to_csv('./Untitled Folder/df_final_merged.csv',index=False)"
   ]
  },
  {
   "cell_type": "markdown",
   "metadata": {},
   "source": [
    "# EDA "
   ]
  },
  {
   "cell_type": "code",
   "execution_count": 3,
   "metadata": {},
   "outputs": [],
   "source": [
    "df_final_merged = pd.read_csv('./Untitled Folder/df_final_merged.csv')"
   ]
  },
  {
   "cell_type": "code",
   "execution_count": 12,
   "metadata": {},
   "outputs": [
    {
     "data": {
      "text/html": [
       "<div>\n",
       "<style scoped>\n",
       "    .dataframe tbody tr th:only-of-type {\n",
       "        vertical-align: middle;\n",
       "    }\n",
       "\n",
       "    .dataframe tbody tr th {\n",
       "        vertical-align: top;\n",
       "    }\n",
       "\n",
       "    .dataframe thead th {\n",
       "        text-align: right;\n",
       "    }\n",
       "</style>\n",
       "<table border=\"1\" class=\"dataframe\">\n",
       "  <thead>\n",
       "    <tr style=\"text-align: right;\">\n",
       "      <th></th>\n",
       "      <th>name</th>\n",
       "      <th>price</th>\n",
       "      <th>pack_size</th>\n",
       "      <th>intro_0</th>\n",
       "      <th>intro_1</th>\n",
       "      <th>How_to_use?</th>\n",
       "      <th>How_it_works?</th>\n",
       "      <th>Images</th>\n",
       "      <th>lv_url</th>\n",
       "      <th>url</th>\n",
       "      <th>...</th>\n",
       "      <th>faqs_35</th>\n",
       "      <th>faqs_36</th>\n",
       "      <th>faqs_37</th>\n",
       "      <th>faqs_38</th>\n",
       "      <th>faqs_39</th>\n",
       "      <th>faqs_40</th>\n",
       "      <th>faqs_41</th>\n",
       "      <th>faqs_42</th>\n",
       "      <th>faqs_43</th>\n",
       "      <th>faqs_44</th>\n",
       "    </tr>\n",
       "  </thead>\n",
       "  <tbody>\n",
       "    <tr>\n",
       "      <th>138020</th>\n",
       "      <td>Dulonic 20mg Capsule</td>\n",
       "      <td>45.0</td>\n",
       "      <td>10 capsules in 1 strip</td>\n",
       "      <td>Dulonic 20mg Capsule is a prescription medicin...</td>\n",
       "      <td>Dulonic 20mg Capsule works by increasing the l...</td>\n",
       "      <td>NaN</td>\n",
       "      <td>NaN</td>\n",
       "      <td>NaN</td>\n",
       "      <td>https://www.1mg.com/drugs/dulonic-20mg-capsule...</td>\n",
       "      <td>https://www.1mg.com/drugs/Dulonic-Capsule-412742</td>\n",
       "      <td>...</td>\n",
       "      <td>NaN</td>\n",
       "      <td>NaN</td>\n",
       "      <td>NaN</td>\n",
       "      <td>NaN</td>\n",
       "      <td>NaN</td>\n",
       "      <td>NaN</td>\n",
       "      <td>NaN</td>\n",
       "      <td>NaN</td>\n",
       "      <td>NaN</td>\n",
       "      <td>NaN</td>\n",
       "    </tr>\n",
       "    <tr>\n",
       "      <th>138021</th>\n",
       "      <td>Dolozap 100mg/325mg Tablet</td>\n",
       "      <td>45.0</td>\n",
       "      <td>10 tablets in 1 strip</td>\n",
       "      <td>Dolozap 100mg/325mg Tablet is a pain relieving...</td>\n",
       "      <td>Dolozap 100mg/325mg Tablet should be taken wit...</td>\n",
       "      <td>NaN</td>\n",
       "      <td>NaN</td>\n",
       "      <td>NaN</td>\n",
       "      <td>https://www.1mg.com/drugs/dolozap-100mg-325mg-...</td>\n",
       "      <td>https://www.1mg.com/drugs/Dolozap-Tablet-485449</td>\n",
       "      <td>...</td>\n",
       "      <td>NaN</td>\n",
       "      <td>NaN</td>\n",
       "      <td>NaN</td>\n",
       "      <td>NaN</td>\n",
       "      <td>NaN</td>\n",
       "      <td>NaN</td>\n",
       "      <td>NaN</td>\n",
       "      <td>NaN</td>\n",
       "      <td>NaN</td>\n",
       "      <td>NaN</td>\n",
       "    </tr>\n",
       "  </tbody>\n",
       "</table>\n",
       "<p>2 rows × 70 columns</p>\n",
       "</div>"
      ],
      "text/plain": [
       "                              name  price               pack_size  \\\n",
       "138020        Dulonic 20mg Capsule   45.0  10 capsules in 1 strip   \n",
       "138021  Dolozap 100mg/325mg Tablet   45.0   10 tablets in 1 strip   \n",
       "\n",
       "                                                  intro_0  \\\n",
       "138020  Dulonic 20mg Capsule is a prescription medicin...   \n",
       "138021  Dolozap 100mg/325mg Tablet is a pain relieving...   \n",
       "\n",
       "                                                  intro_1  How_to_use?  \\\n",
       "138020  Dulonic 20mg Capsule works by increasing the l...          NaN   \n",
       "138021  Dolozap 100mg/325mg Tablet should be taken wit...          NaN   \n",
       "\n",
       "        How_it_works? Images  \\\n",
       "138020            NaN    NaN   \n",
       "138021            NaN    NaN   \n",
       "\n",
       "                                                   lv_url  \\\n",
       "138020  https://www.1mg.com/drugs/dulonic-20mg-capsule...   \n",
       "138021  https://www.1mg.com/drugs/dolozap-100mg-325mg-...   \n",
       "\n",
       "                                                     url  ... faqs_35 faqs_36  \\\n",
       "138020  https://www.1mg.com/drugs/Dulonic-Capsule-412742  ...     NaN     NaN   \n",
       "138021   https://www.1mg.com/drugs/Dolozap-Tablet-485449  ...     NaN     NaN   \n",
       "\n",
       "       faqs_37 faqs_38 faqs_39 faqs_40 faqs_41 faqs_42 faqs_43 faqs_44  \n",
       "138020     NaN     NaN     NaN     NaN     NaN     NaN     NaN     NaN  \n",
       "138021     NaN     NaN     NaN     NaN     NaN     NaN     NaN     NaN  \n",
       "\n",
       "[2 rows x 70 columns]"
      ]
     },
     "execution_count": 12,
     "metadata": {},
     "output_type": "execute_result"
    }
   ],
   "source": [
    "df_final_merged.tail(2)"
   ]
  },
  {
   "cell_type": "code",
   "execution_count": 9,
   "metadata": {},
   "outputs": [
    {
     "data": {
      "text/plain": [
       "(138022, 70)"
      ]
     },
     "execution_count": 9,
     "metadata": {},
     "output_type": "execute_result"
    }
   ],
   "source": [
    "df_final_merged.shape"
   ]
  },
  {
   "cell_type": "code",
   "execution_count": 4,
   "metadata": {},
   "outputs": [],
   "source": [
    "obj =df_final_merged.isnull().sum()"
   ]
  },
  {
   "cell_type": "code",
   "execution_count": 5,
   "metadata": {},
   "outputs": [],
   "source": [
    "column_names = []\n",
    "nan_values = []\n",
    "for key,value in obj.iteritems():\n",
    "    column_names.append(key)\n",
    "    nan_values.append(value)\n",
    "    #print(key,\",\",value)"
   ]
  },
  {
   "cell_type": "code",
   "execution_count": 6,
   "metadata": {},
   "outputs": [],
   "source": [
    "#create new df \n",
    "df_nan = pd.DataFrame({'column_names':column_names, 'nan_values':nan_values })"
   ]
  },
  {
   "cell_type": "code",
   "execution_count": 11,
   "metadata": {},
   "outputs": [
    {
     "data": {
      "application/vnd.plotly.v1+json": {
       "config": {
        "plotlyServerURL": "https://plot.ly"
       },
       "data": [
        {
         "alignmentgroup": "True",
         "hovertemplate": "x=%{x}<br>y=%{y}<extra></extra>",
         "legendgroup": "",
         "marker": {
          "color": "#636efa"
         },
         "name": "",
         "offsetgroup": "",
         "orientation": "v",
         "showlegend": false,
         "textposition": "auto",
         "type": "bar",
         "x": [
          "name",
          "price",
          "pack_size",
          "intro_0",
          "intro_1",
          "How_to_use?",
          "How_it_works?",
          "Images",
          "lv_url",
          "url",
          "Clean_expert_advice",
          "Clean_Uses",
          "Clean_side_effects",
          "alcohol_0",
          "alcohol_1",
          "pregnancy_0",
          "pregnancy_1",
          "breastfeeding_0",
          "breastfeeding_1",
          "driving_0",
          "driving_1",
          "kidney_0",
          "kidney_1",
          "liver_0",
          "liver_1",
          "faqs_0",
          "faqs_1",
          "faqs_2",
          "faqs_3",
          "faqs_4",
          "faqs_5",
          "faqs_6",
          "faqs_7",
          "faqs_8",
          "faqs_9",
          "faqs_10",
          "faqs_11",
          "faqs_12",
          "faqs_13",
          "faqs_14",
          "faqs_15",
          "faqs_16",
          "faqs_17",
          "faqs_18",
          "faqs_19",
          "faqs_20",
          "faqs_21",
          "faqs_22",
          "faqs_23",
          "faqs_24",
          "faqs_25",
          "faqs_26",
          "faqs_27",
          "faqs_28",
          "faqs_29",
          "faqs_30",
          "faqs_31",
          "faqs_32",
          "faqs_33",
          "faqs_34",
          "faqs_35",
          "faqs_36",
          "faqs_37",
          "faqs_38",
          "faqs_39",
          "faqs_40",
          "faqs_41",
          "faqs_42",
          "faqs_43",
          "faqs_44"
         ],
         "xaxis": "x",
         "y": [
          0,
          0,
          0,
          23,
          44,
          138022,
          138022,
          129439,
          0,
          0,
          9510,
          144,
          0,
          0,
          0,
          0,
          0,
          0,
          0,
          0,
          0,
          0,
          0,
          0,
          0,
          11717,
          14436,
          18621,
          24077,
          33964,
          50117,
          67998,
          80395,
          97811,
          114958,
          123696,
          127744,
          130582,
          133931,
          135112,
          136740,
          137036,
          137036,
          137044,
          137044,
          137147,
          137147,
          137147,
          137147,
          137147,
          137147,
          137775,
          137775,
          137775,
          137775,
          137775,
          137775,
          137775,
          137775,
          137775,
          137775,
          137775,
          137775,
          137775,
          137775,
          137795,
          137795,
          137795,
          137795,
          137795
         ],
         "yaxis": "y"
        }
       ],
       "layout": {
        "barmode": "relative",
        "legend": {
         "tracegroupgap": 0
        },
        "margin": {
         "t": 60
        },
        "template": {
         "data": {
          "bar": [
           {
            "error_x": {
             "color": "#2a3f5f"
            },
            "error_y": {
             "color": "#2a3f5f"
            },
            "marker": {
             "line": {
              "color": "#E5ECF6",
              "width": 0.5
             }
            },
            "type": "bar"
           }
          ],
          "barpolar": [
           {
            "marker": {
             "line": {
              "color": "#E5ECF6",
              "width": 0.5
             }
            },
            "type": "barpolar"
           }
          ],
          "carpet": [
           {
            "aaxis": {
             "endlinecolor": "#2a3f5f",
             "gridcolor": "white",
             "linecolor": "white",
             "minorgridcolor": "white",
             "startlinecolor": "#2a3f5f"
            },
            "baxis": {
             "endlinecolor": "#2a3f5f",
             "gridcolor": "white",
             "linecolor": "white",
             "minorgridcolor": "white",
             "startlinecolor": "#2a3f5f"
            },
            "type": "carpet"
           }
          ],
          "choropleth": [
           {
            "colorbar": {
             "outlinewidth": 0,
             "ticks": ""
            },
            "type": "choropleth"
           }
          ],
          "contour": [
           {
            "colorbar": {
             "outlinewidth": 0,
             "ticks": ""
            },
            "colorscale": [
             [
              0,
              "#0d0887"
             ],
             [
              0.1111111111111111,
              "#46039f"
             ],
             [
              0.2222222222222222,
              "#7201a8"
             ],
             [
              0.3333333333333333,
              "#9c179e"
             ],
             [
              0.4444444444444444,
              "#bd3786"
             ],
             [
              0.5555555555555556,
              "#d8576b"
             ],
             [
              0.6666666666666666,
              "#ed7953"
             ],
             [
              0.7777777777777778,
              "#fb9f3a"
             ],
             [
              0.8888888888888888,
              "#fdca26"
             ],
             [
              1,
              "#f0f921"
             ]
            ],
            "type": "contour"
           }
          ],
          "contourcarpet": [
           {
            "colorbar": {
             "outlinewidth": 0,
             "ticks": ""
            },
            "type": "contourcarpet"
           }
          ],
          "heatmap": [
           {
            "colorbar": {
             "outlinewidth": 0,
             "ticks": ""
            },
            "colorscale": [
             [
              0,
              "#0d0887"
             ],
             [
              0.1111111111111111,
              "#46039f"
             ],
             [
              0.2222222222222222,
              "#7201a8"
             ],
             [
              0.3333333333333333,
              "#9c179e"
             ],
             [
              0.4444444444444444,
              "#bd3786"
             ],
             [
              0.5555555555555556,
              "#d8576b"
             ],
             [
              0.6666666666666666,
              "#ed7953"
             ],
             [
              0.7777777777777778,
              "#fb9f3a"
             ],
             [
              0.8888888888888888,
              "#fdca26"
             ],
             [
              1,
              "#f0f921"
             ]
            ],
            "type": "heatmap"
           }
          ],
          "heatmapgl": [
           {
            "colorbar": {
             "outlinewidth": 0,
             "ticks": ""
            },
            "colorscale": [
             [
              0,
              "#0d0887"
             ],
             [
              0.1111111111111111,
              "#46039f"
             ],
             [
              0.2222222222222222,
              "#7201a8"
             ],
             [
              0.3333333333333333,
              "#9c179e"
             ],
             [
              0.4444444444444444,
              "#bd3786"
             ],
             [
              0.5555555555555556,
              "#d8576b"
             ],
             [
              0.6666666666666666,
              "#ed7953"
             ],
             [
              0.7777777777777778,
              "#fb9f3a"
             ],
             [
              0.8888888888888888,
              "#fdca26"
             ],
             [
              1,
              "#f0f921"
             ]
            ],
            "type": "heatmapgl"
           }
          ],
          "histogram": [
           {
            "marker": {
             "colorbar": {
              "outlinewidth": 0,
              "ticks": ""
             }
            },
            "type": "histogram"
           }
          ],
          "histogram2d": [
           {
            "colorbar": {
             "outlinewidth": 0,
             "ticks": ""
            },
            "colorscale": [
             [
              0,
              "#0d0887"
             ],
             [
              0.1111111111111111,
              "#46039f"
             ],
             [
              0.2222222222222222,
              "#7201a8"
             ],
             [
              0.3333333333333333,
              "#9c179e"
             ],
             [
              0.4444444444444444,
              "#bd3786"
             ],
             [
              0.5555555555555556,
              "#d8576b"
             ],
             [
              0.6666666666666666,
              "#ed7953"
             ],
             [
              0.7777777777777778,
              "#fb9f3a"
             ],
             [
              0.8888888888888888,
              "#fdca26"
             ],
             [
              1,
              "#f0f921"
             ]
            ],
            "type": "histogram2d"
           }
          ],
          "histogram2dcontour": [
           {
            "colorbar": {
             "outlinewidth": 0,
             "ticks": ""
            },
            "colorscale": [
             [
              0,
              "#0d0887"
             ],
             [
              0.1111111111111111,
              "#46039f"
             ],
             [
              0.2222222222222222,
              "#7201a8"
             ],
             [
              0.3333333333333333,
              "#9c179e"
             ],
             [
              0.4444444444444444,
              "#bd3786"
             ],
             [
              0.5555555555555556,
              "#d8576b"
             ],
             [
              0.6666666666666666,
              "#ed7953"
             ],
             [
              0.7777777777777778,
              "#fb9f3a"
             ],
             [
              0.8888888888888888,
              "#fdca26"
             ],
             [
              1,
              "#f0f921"
             ]
            ],
            "type": "histogram2dcontour"
           }
          ],
          "mesh3d": [
           {
            "colorbar": {
             "outlinewidth": 0,
             "ticks": ""
            },
            "type": "mesh3d"
           }
          ],
          "parcoords": [
           {
            "line": {
             "colorbar": {
              "outlinewidth": 0,
              "ticks": ""
             }
            },
            "type": "parcoords"
           }
          ],
          "pie": [
           {
            "automargin": true,
            "type": "pie"
           }
          ],
          "scatter": [
           {
            "marker": {
             "colorbar": {
              "outlinewidth": 0,
              "ticks": ""
             }
            },
            "type": "scatter"
           }
          ],
          "scatter3d": [
           {
            "line": {
             "colorbar": {
              "outlinewidth": 0,
              "ticks": ""
             }
            },
            "marker": {
             "colorbar": {
              "outlinewidth": 0,
              "ticks": ""
             }
            },
            "type": "scatter3d"
           }
          ],
          "scattercarpet": [
           {
            "marker": {
             "colorbar": {
              "outlinewidth": 0,
              "ticks": ""
             }
            },
            "type": "scattercarpet"
           }
          ],
          "scattergeo": [
           {
            "marker": {
             "colorbar": {
              "outlinewidth": 0,
              "ticks": ""
             }
            },
            "type": "scattergeo"
           }
          ],
          "scattergl": [
           {
            "marker": {
             "colorbar": {
              "outlinewidth": 0,
              "ticks": ""
             }
            },
            "type": "scattergl"
           }
          ],
          "scattermapbox": [
           {
            "marker": {
             "colorbar": {
              "outlinewidth": 0,
              "ticks": ""
             }
            },
            "type": "scattermapbox"
           }
          ],
          "scatterpolar": [
           {
            "marker": {
             "colorbar": {
              "outlinewidth": 0,
              "ticks": ""
             }
            },
            "type": "scatterpolar"
           }
          ],
          "scatterpolargl": [
           {
            "marker": {
             "colorbar": {
              "outlinewidth": 0,
              "ticks": ""
             }
            },
            "type": "scatterpolargl"
           }
          ],
          "scatterternary": [
           {
            "marker": {
             "colorbar": {
              "outlinewidth": 0,
              "ticks": ""
             }
            },
            "type": "scatterternary"
           }
          ],
          "surface": [
           {
            "colorbar": {
             "outlinewidth": 0,
             "ticks": ""
            },
            "colorscale": [
             [
              0,
              "#0d0887"
             ],
             [
              0.1111111111111111,
              "#46039f"
             ],
             [
              0.2222222222222222,
              "#7201a8"
             ],
             [
              0.3333333333333333,
              "#9c179e"
             ],
             [
              0.4444444444444444,
              "#bd3786"
             ],
             [
              0.5555555555555556,
              "#d8576b"
             ],
             [
              0.6666666666666666,
              "#ed7953"
             ],
             [
              0.7777777777777778,
              "#fb9f3a"
             ],
             [
              0.8888888888888888,
              "#fdca26"
             ],
             [
              1,
              "#f0f921"
             ]
            ],
            "type": "surface"
           }
          ],
          "table": [
           {
            "cells": {
             "fill": {
              "color": "#EBF0F8"
             },
             "line": {
              "color": "white"
             }
            },
            "header": {
             "fill": {
              "color": "#C8D4E3"
             },
             "line": {
              "color": "white"
             }
            },
            "type": "table"
           }
          ]
         },
         "layout": {
          "annotationdefaults": {
           "arrowcolor": "#2a3f5f",
           "arrowhead": 0,
           "arrowwidth": 1
          },
          "coloraxis": {
           "colorbar": {
            "outlinewidth": 0,
            "ticks": ""
           }
          },
          "colorscale": {
           "diverging": [
            [
             0,
             "#8e0152"
            ],
            [
             0.1,
             "#c51b7d"
            ],
            [
             0.2,
             "#de77ae"
            ],
            [
             0.3,
             "#f1b6da"
            ],
            [
             0.4,
             "#fde0ef"
            ],
            [
             0.5,
             "#f7f7f7"
            ],
            [
             0.6,
             "#e6f5d0"
            ],
            [
             0.7,
             "#b8e186"
            ],
            [
             0.8,
             "#7fbc41"
            ],
            [
             0.9,
             "#4d9221"
            ],
            [
             1,
             "#276419"
            ]
           ],
           "sequential": [
            [
             0,
             "#0d0887"
            ],
            [
             0.1111111111111111,
             "#46039f"
            ],
            [
             0.2222222222222222,
             "#7201a8"
            ],
            [
             0.3333333333333333,
             "#9c179e"
            ],
            [
             0.4444444444444444,
             "#bd3786"
            ],
            [
             0.5555555555555556,
             "#d8576b"
            ],
            [
             0.6666666666666666,
             "#ed7953"
            ],
            [
             0.7777777777777778,
             "#fb9f3a"
            ],
            [
             0.8888888888888888,
             "#fdca26"
            ],
            [
             1,
             "#f0f921"
            ]
           ],
           "sequentialminus": [
            [
             0,
             "#0d0887"
            ],
            [
             0.1111111111111111,
             "#46039f"
            ],
            [
             0.2222222222222222,
             "#7201a8"
            ],
            [
             0.3333333333333333,
             "#9c179e"
            ],
            [
             0.4444444444444444,
             "#bd3786"
            ],
            [
             0.5555555555555556,
             "#d8576b"
            ],
            [
             0.6666666666666666,
             "#ed7953"
            ],
            [
             0.7777777777777778,
             "#fb9f3a"
            ],
            [
             0.8888888888888888,
             "#fdca26"
            ],
            [
             1,
             "#f0f921"
            ]
           ]
          },
          "colorway": [
           "#636efa",
           "#EF553B",
           "#00cc96",
           "#ab63fa",
           "#FFA15A",
           "#19d3f3",
           "#FF6692",
           "#B6E880",
           "#FF97FF",
           "#FECB52"
          ],
          "font": {
           "color": "#2a3f5f"
          },
          "geo": {
           "bgcolor": "white",
           "lakecolor": "white",
           "landcolor": "#E5ECF6",
           "showlakes": true,
           "showland": true,
           "subunitcolor": "white"
          },
          "hoverlabel": {
           "align": "left"
          },
          "hovermode": "closest",
          "mapbox": {
           "style": "light"
          },
          "paper_bgcolor": "white",
          "plot_bgcolor": "#E5ECF6",
          "polar": {
           "angularaxis": {
            "gridcolor": "white",
            "linecolor": "white",
            "ticks": ""
           },
           "bgcolor": "#E5ECF6",
           "radialaxis": {
            "gridcolor": "white",
            "linecolor": "white",
            "ticks": ""
           }
          },
          "scene": {
           "xaxis": {
            "backgroundcolor": "#E5ECF6",
            "gridcolor": "white",
            "gridwidth": 2,
            "linecolor": "white",
            "showbackground": true,
            "ticks": "",
            "zerolinecolor": "white"
           },
           "yaxis": {
            "backgroundcolor": "#E5ECF6",
            "gridcolor": "white",
            "gridwidth": 2,
            "linecolor": "white",
            "showbackground": true,
            "ticks": "",
            "zerolinecolor": "white"
           },
           "zaxis": {
            "backgroundcolor": "#E5ECF6",
            "gridcolor": "white",
            "gridwidth": 2,
            "linecolor": "white",
            "showbackground": true,
            "ticks": "",
            "zerolinecolor": "white"
           }
          },
          "shapedefaults": {
           "line": {
            "color": "#2a3f5f"
           }
          },
          "ternary": {
           "aaxis": {
            "gridcolor": "white",
            "linecolor": "white",
            "ticks": ""
           },
           "baxis": {
            "gridcolor": "white",
            "linecolor": "white",
            "ticks": ""
           },
           "bgcolor": "#E5ECF6",
           "caxis": {
            "gridcolor": "white",
            "linecolor": "white",
            "ticks": ""
           }
          },
          "title": {
           "x": 0.05
          },
          "xaxis": {
           "automargin": true,
           "gridcolor": "white",
           "linecolor": "white",
           "ticks": "",
           "title": {
            "standoff": 15
           },
           "zerolinecolor": "white",
           "zerolinewidth": 2
          },
          "yaxis": {
           "automargin": true,
           "gridcolor": "white",
           "linecolor": "white",
           "ticks": "",
           "title": {
            "standoff": 15
           },
           "zerolinecolor": "white",
           "zerolinewidth": 2
          }
         }
        },
        "title": {
         "text": "Distribution NaN values"
        },
        "xaxis": {
         "anchor": "y",
         "domain": [
          0,
          1
         ],
         "title": {
          "text": "Columns"
         }
        },
        "yaxis": {
         "anchor": "x",
         "domain": [
          0,
          1
         ],
         "title": {
          "text": "Number of NAN values"
         }
        }
       }
      },
      "text/html": [
       "<div>\n",
       "        \n",
       "        \n",
       "            <div id=\"5b7c69fd-38e7-4739-9930-b93215500e51\" class=\"plotly-graph-div\" style=\"height:525px; width:100%;\"></div>\n",
       "            <script type=\"text/javascript\">\n",
       "                require([\"plotly\"], function(Plotly) {\n",
       "                    window.PLOTLYENV=window.PLOTLYENV || {};\n",
       "                    \n",
       "                if (document.getElementById(\"5b7c69fd-38e7-4739-9930-b93215500e51\")) {\n",
       "                    Plotly.newPlot(\n",
       "                        '5b7c69fd-38e7-4739-9930-b93215500e51',\n",
       "                        [{\"alignmentgroup\": \"True\", \"hovertemplate\": \"x=%{x}<br>y=%{y}<extra></extra>\", \"legendgroup\": \"\", \"marker\": {\"color\": \"#636efa\"}, \"name\": \"\", \"offsetgroup\": \"\", \"orientation\": \"v\", \"showlegend\": false, \"textposition\": \"auto\", \"type\": \"bar\", \"x\": [\"name\", \"price\", \"pack_size\", \"intro_0\", \"intro_1\", \"How_to_use?\", \"How_it_works?\", \"Images\", \"lv_url\", \"url\", \"Clean_expert_advice\", \"Clean_Uses\", \"Clean_side_effects\", \"alcohol_0\", \"alcohol_1\", \"pregnancy_0\", \"pregnancy_1\", \"breastfeeding_0\", \"breastfeeding_1\", \"driving_0\", \"driving_1\", \"kidney_0\", \"kidney_1\", \"liver_0\", \"liver_1\", \"faqs_0\", \"faqs_1\", \"faqs_2\", \"faqs_3\", \"faqs_4\", \"faqs_5\", \"faqs_6\", \"faqs_7\", \"faqs_8\", \"faqs_9\", \"faqs_10\", \"faqs_11\", \"faqs_12\", \"faqs_13\", \"faqs_14\", \"faqs_15\", \"faqs_16\", \"faqs_17\", \"faqs_18\", \"faqs_19\", \"faqs_20\", \"faqs_21\", \"faqs_22\", \"faqs_23\", \"faqs_24\", \"faqs_25\", \"faqs_26\", \"faqs_27\", \"faqs_28\", \"faqs_29\", \"faqs_30\", \"faqs_31\", \"faqs_32\", \"faqs_33\", \"faqs_34\", \"faqs_35\", \"faqs_36\", \"faqs_37\", \"faqs_38\", \"faqs_39\", \"faqs_40\", \"faqs_41\", \"faqs_42\", \"faqs_43\", \"faqs_44\"], \"xaxis\": \"x\", \"y\": [0, 0, 0, 23, 44, 138022, 138022, 129439, 0, 0, 9510, 144, 0, 0, 0, 0, 0, 0, 0, 0, 0, 0, 0, 0, 0, 11717, 14436, 18621, 24077, 33964, 50117, 67998, 80395, 97811, 114958, 123696, 127744, 130582, 133931, 135112, 136740, 137036, 137036, 137044, 137044, 137147, 137147, 137147, 137147, 137147, 137147, 137775, 137775, 137775, 137775, 137775, 137775, 137775, 137775, 137775, 137775, 137775, 137775, 137775, 137775, 137795, 137795, 137795, 137795, 137795], \"yaxis\": \"y\"}],\n",
       "                        {\"barmode\": \"relative\", \"legend\": {\"tracegroupgap\": 0}, \"margin\": {\"t\": 60}, \"template\": {\"data\": {\"bar\": [{\"error_x\": {\"color\": \"#2a3f5f\"}, \"error_y\": {\"color\": \"#2a3f5f\"}, \"marker\": {\"line\": {\"color\": \"#E5ECF6\", \"width\": 0.5}}, \"type\": \"bar\"}], \"barpolar\": [{\"marker\": {\"line\": {\"color\": \"#E5ECF6\", \"width\": 0.5}}, \"type\": \"barpolar\"}], \"carpet\": [{\"aaxis\": {\"endlinecolor\": \"#2a3f5f\", \"gridcolor\": \"white\", \"linecolor\": \"white\", \"minorgridcolor\": \"white\", \"startlinecolor\": \"#2a3f5f\"}, \"baxis\": {\"endlinecolor\": \"#2a3f5f\", \"gridcolor\": \"white\", \"linecolor\": \"white\", \"minorgridcolor\": \"white\", \"startlinecolor\": \"#2a3f5f\"}, \"type\": \"carpet\"}], \"choropleth\": [{\"colorbar\": {\"outlinewidth\": 0, \"ticks\": \"\"}, \"type\": \"choropleth\"}], \"contour\": [{\"colorbar\": {\"outlinewidth\": 0, \"ticks\": \"\"}, \"colorscale\": [[0.0, \"#0d0887\"], [0.1111111111111111, \"#46039f\"], [0.2222222222222222, \"#7201a8\"], [0.3333333333333333, \"#9c179e\"], [0.4444444444444444, \"#bd3786\"], [0.5555555555555556, \"#d8576b\"], [0.6666666666666666, \"#ed7953\"], [0.7777777777777778, \"#fb9f3a\"], [0.8888888888888888, \"#fdca26\"], [1.0, \"#f0f921\"]], \"type\": \"contour\"}], \"contourcarpet\": [{\"colorbar\": {\"outlinewidth\": 0, \"ticks\": \"\"}, \"type\": \"contourcarpet\"}], \"heatmap\": [{\"colorbar\": {\"outlinewidth\": 0, \"ticks\": \"\"}, \"colorscale\": [[0.0, \"#0d0887\"], [0.1111111111111111, \"#46039f\"], [0.2222222222222222, \"#7201a8\"], [0.3333333333333333, \"#9c179e\"], [0.4444444444444444, \"#bd3786\"], [0.5555555555555556, \"#d8576b\"], [0.6666666666666666, \"#ed7953\"], [0.7777777777777778, \"#fb9f3a\"], [0.8888888888888888, \"#fdca26\"], [1.0, \"#f0f921\"]], \"type\": \"heatmap\"}], \"heatmapgl\": [{\"colorbar\": {\"outlinewidth\": 0, \"ticks\": \"\"}, \"colorscale\": [[0.0, \"#0d0887\"], [0.1111111111111111, \"#46039f\"], [0.2222222222222222, \"#7201a8\"], [0.3333333333333333, \"#9c179e\"], [0.4444444444444444, \"#bd3786\"], [0.5555555555555556, \"#d8576b\"], [0.6666666666666666, \"#ed7953\"], [0.7777777777777778, \"#fb9f3a\"], [0.8888888888888888, \"#fdca26\"], [1.0, \"#f0f921\"]], \"type\": \"heatmapgl\"}], \"histogram\": [{\"marker\": {\"colorbar\": {\"outlinewidth\": 0, \"ticks\": \"\"}}, \"type\": \"histogram\"}], \"histogram2d\": [{\"colorbar\": {\"outlinewidth\": 0, \"ticks\": \"\"}, \"colorscale\": [[0.0, \"#0d0887\"], [0.1111111111111111, \"#46039f\"], [0.2222222222222222, \"#7201a8\"], [0.3333333333333333, \"#9c179e\"], [0.4444444444444444, \"#bd3786\"], [0.5555555555555556, \"#d8576b\"], [0.6666666666666666, \"#ed7953\"], [0.7777777777777778, \"#fb9f3a\"], [0.8888888888888888, \"#fdca26\"], [1.0, \"#f0f921\"]], \"type\": \"histogram2d\"}], \"histogram2dcontour\": [{\"colorbar\": {\"outlinewidth\": 0, \"ticks\": \"\"}, \"colorscale\": [[0.0, \"#0d0887\"], [0.1111111111111111, \"#46039f\"], [0.2222222222222222, \"#7201a8\"], [0.3333333333333333, \"#9c179e\"], [0.4444444444444444, \"#bd3786\"], [0.5555555555555556, \"#d8576b\"], [0.6666666666666666, \"#ed7953\"], [0.7777777777777778, \"#fb9f3a\"], [0.8888888888888888, \"#fdca26\"], [1.0, \"#f0f921\"]], \"type\": \"histogram2dcontour\"}], \"mesh3d\": [{\"colorbar\": {\"outlinewidth\": 0, \"ticks\": \"\"}, \"type\": \"mesh3d\"}], \"parcoords\": [{\"line\": {\"colorbar\": {\"outlinewidth\": 0, \"ticks\": \"\"}}, \"type\": \"parcoords\"}], \"pie\": [{\"automargin\": true, \"type\": \"pie\"}], \"scatter\": [{\"marker\": {\"colorbar\": {\"outlinewidth\": 0, \"ticks\": \"\"}}, \"type\": \"scatter\"}], \"scatter3d\": [{\"line\": {\"colorbar\": {\"outlinewidth\": 0, \"ticks\": \"\"}}, \"marker\": {\"colorbar\": {\"outlinewidth\": 0, \"ticks\": \"\"}}, \"type\": \"scatter3d\"}], \"scattercarpet\": [{\"marker\": {\"colorbar\": {\"outlinewidth\": 0, \"ticks\": \"\"}}, \"type\": \"scattercarpet\"}], \"scattergeo\": [{\"marker\": {\"colorbar\": {\"outlinewidth\": 0, \"ticks\": \"\"}}, \"type\": \"scattergeo\"}], \"scattergl\": [{\"marker\": {\"colorbar\": {\"outlinewidth\": 0, \"ticks\": \"\"}}, \"type\": \"scattergl\"}], \"scattermapbox\": [{\"marker\": {\"colorbar\": {\"outlinewidth\": 0, \"ticks\": \"\"}}, \"type\": \"scattermapbox\"}], \"scatterpolar\": [{\"marker\": {\"colorbar\": {\"outlinewidth\": 0, \"ticks\": \"\"}}, \"type\": \"scatterpolar\"}], \"scatterpolargl\": [{\"marker\": {\"colorbar\": {\"outlinewidth\": 0, \"ticks\": \"\"}}, \"type\": \"scatterpolargl\"}], \"scatterternary\": [{\"marker\": {\"colorbar\": {\"outlinewidth\": 0, \"ticks\": \"\"}}, \"type\": \"scatterternary\"}], \"surface\": [{\"colorbar\": {\"outlinewidth\": 0, \"ticks\": \"\"}, \"colorscale\": [[0.0, \"#0d0887\"], [0.1111111111111111, \"#46039f\"], [0.2222222222222222, \"#7201a8\"], [0.3333333333333333, \"#9c179e\"], [0.4444444444444444, \"#bd3786\"], [0.5555555555555556, \"#d8576b\"], [0.6666666666666666, \"#ed7953\"], [0.7777777777777778, \"#fb9f3a\"], [0.8888888888888888, \"#fdca26\"], [1.0, \"#f0f921\"]], \"type\": \"surface\"}], \"table\": [{\"cells\": {\"fill\": {\"color\": \"#EBF0F8\"}, \"line\": {\"color\": \"white\"}}, \"header\": {\"fill\": {\"color\": \"#C8D4E3\"}, \"line\": {\"color\": \"white\"}}, \"type\": \"table\"}]}, \"layout\": {\"annotationdefaults\": {\"arrowcolor\": \"#2a3f5f\", \"arrowhead\": 0, \"arrowwidth\": 1}, \"coloraxis\": {\"colorbar\": {\"outlinewidth\": 0, \"ticks\": \"\"}}, \"colorscale\": {\"diverging\": [[0, \"#8e0152\"], [0.1, \"#c51b7d\"], [0.2, \"#de77ae\"], [0.3, \"#f1b6da\"], [0.4, \"#fde0ef\"], [0.5, \"#f7f7f7\"], [0.6, \"#e6f5d0\"], [0.7, \"#b8e186\"], [0.8, \"#7fbc41\"], [0.9, \"#4d9221\"], [1, \"#276419\"]], \"sequential\": [[0.0, \"#0d0887\"], [0.1111111111111111, \"#46039f\"], [0.2222222222222222, \"#7201a8\"], [0.3333333333333333, \"#9c179e\"], [0.4444444444444444, \"#bd3786\"], [0.5555555555555556, \"#d8576b\"], [0.6666666666666666, \"#ed7953\"], [0.7777777777777778, \"#fb9f3a\"], [0.8888888888888888, \"#fdca26\"], [1.0, \"#f0f921\"]], \"sequentialminus\": [[0.0, \"#0d0887\"], [0.1111111111111111, \"#46039f\"], [0.2222222222222222, \"#7201a8\"], [0.3333333333333333, \"#9c179e\"], [0.4444444444444444, \"#bd3786\"], [0.5555555555555556, \"#d8576b\"], [0.6666666666666666, \"#ed7953\"], [0.7777777777777778, \"#fb9f3a\"], [0.8888888888888888, \"#fdca26\"], [1.0, \"#f0f921\"]]}, \"colorway\": [\"#636efa\", \"#EF553B\", \"#00cc96\", \"#ab63fa\", \"#FFA15A\", \"#19d3f3\", \"#FF6692\", \"#B6E880\", \"#FF97FF\", \"#FECB52\"], \"font\": {\"color\": \"#2a3f5f\"}, \"geo\": {\"bgcolor\": \"white\", \"lakecolor\": \"white\", \"landcolor\": \"#E5ECF6\", \"showlakes\": true, \"showland\": true, \"subunitcolor\": \"white\"}, \"hoverlabel\": {\"align\": \"left\"}, \"hovermode\": \"closest\", \"mapbox\": {\"style\": \"light\"}, \"paper_bgcolor\": \"white\", \"plot_bgcolor\": \"#E5ECF6\", \"polar\": {\"angularaxis\": {\"gridcolor\": \"white\", \"linecolor\": \"white\", \"ticks\": \"\"}, \"bgcolor\": \"#E5ECF6\", \"radialaxis\": {\"gridcolor\": \"white\", \"linecolor\": \"white\", \"ticks\": \"\"}}, \"scene\": {\"xaxis\": {\"backgroundcolor\": \"#E5ECF6\", \"gridcolor\": \"white\", \"gridwidth\": 2, \"linecolor\": \"white\", \"showbackground\": true, \"ticks\": \"\", \"zerolinecolor\": \"white\"}, \"yaxis\": {\"backgroundcolor\": \"#E5ECF6\", \"gridcolor\": \"white\", \"gridwidth\": 2, \"linecolor\": \"white\", \"showbackground\": true, \"ticks\": \"\", \"zerolinecolor\": \"white\"}, \"zaxis\": {\"backgroundcolor\": \"#E5ECF6\", \"gridcolor\": \"white\", \"gridwidth\": 2, \"linecolor\": \"white\", \"showbackground\": true, \"ticks\": \"\", \"zerolinecolor\": \"white\"}}, \"shapedefaults\": {\"line\": {\"color\": \"#2a3f5f\"}}, \"ternary\": {\"aaxis\": {\"gridcolor\": \"white\", \"linecolor\": \"white\", \"ticks\": \"\"}, \"baxis\": {\"gridcolor\": \"white\", \"linecolor\": \"white\", \"ticks\": \"\"}, \"bgcolor\": \"#E5ECF6\", \"caxis\": {\"gridcolor\": \"white\", \"linecolor\": \"white\", \"ticks\": \"\"}}, \"title\": {\"x\": 0.05}, \"xaxis\": {\"automargin\": true, \"gridcolor\": \"white\", \"linecolor\": \"white\", \"ticks\": \"\", \"title\": {\"standoff\": 15}, \"zerolinecolor\": \"white\", \"zerolinewidth\": 2}, \"yaxis\": {\"automargin\": true, \"gridcolor\": \"white\", \"linecolor\": \"white\", \"ticks\": \"\", \"title\": {\"standoff\": 15}, \"zerolinecolor\": \"white\", \"zerolinewidth\": 2}}}, \"title\": {\"text\": \"Distribution NaN values\"}, \"xaxis\": {\"anchor\": \"y\", \"domain\": [0.0, 1.0], \"title\": {\"text\": \"Columns\"}}, \"yaxis\": {\"anchor\": \"x\", \"domain\": [0.0, 1.0], \"title\": {\"text\": \"Number of NAN values\"}}},\n",
       "                        {\"responsive\": true}\n",
       "                    ).then(function(){\n",
       "                            \n",
       "var gd = document.getElementById('5b7c69fd-38e7-4739-9930-b93215500e51');\n",
       "var x = new MutationObserver(function (mutations, observer) {{\n",
       "        var display = window.getComputedStyle(gd).display;\n",
       "        if (!display || display === 'none') {{\n",
       "            console.log([gd, 'removed!']);\n",
       "            Plotly.purge(gd);\n",
       "            observer.disconnect();\n",
       "        }}\n",
       "}});\n",
       "\n",
       "// Listen for the removal of the full notebook cells\n",
       "var notebookContainer = gd.closest('#notebook-container');\n",
       "if (notebookContainer) {{\n",
       "    x.observe(notebookContainer, {childList: true});\n",
       "}}\n",
       "\n",
       "// Listen for the clearing of the current output cell\n",
       "var outputEl = gd.closest('.output');\n",
       "if (outputEl) {{\n",
       "    x.observe(outputEl, {childList: true});\n",
       "}}\n",
       "\n",
       "                        })\n",
       "                };\n",
       "                });\n",
       "            </script>\n",
       "        </div>"
      ]
     },
     "metadata": {},
     "output_type": "display_data"
    }
   ],
   "source": [
    "fig=px.bar(x=column_names,y=nan_values)\n",
    "fig.update_layout(title=\"Distribution NaN values\", xaxis_title=\"Columns\",yaxis_title=\"Number of NAN values\")\n",
    "fig.show()"
   ]
  },
  {
   "cell_type": "code",
   "execution_count": null,
   "metadata": {},
   "outputs": [],
   "source": []
  },
  {
   "cell_type": "code",
   "execution_count": null,
   "metadata": {},
   "outputs": [],
   "source": []
  },
  {
   "cell_type": "code",
   "execution_count": null,
   "metadata": {},
   "outputs": [],
   "source": []
  }
 ],
 "metadata": {
  "kernelspec": {
   "display_name": "python3_shritam",
   "language": "python",
   "name": "python3_myenv"
  },
  "language_info": {
   "codemirror_mode": {
    "name": "ipython",
    "version": 3
   },
   "file_extension": ".py",
   "mimetype": "text/x-python",
   "name": "python",
   "nbconvert_exporter": "python",
   "pygments_lexer": "ipython3",
   "version": "3.6.10"
  }
 },
 "nbformat": 4,
 "nbformat_minor": 2
}
